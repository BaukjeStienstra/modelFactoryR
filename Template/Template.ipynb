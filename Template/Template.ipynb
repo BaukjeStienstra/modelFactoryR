{
 "cells": [
  {
   "cell_type": "code",
   "execution_count": 28,
   "metadata": {
    "collapsed": false
   },
   "outputs": [],
   "source": [
    "library(dplyr)\n",
    "library(TeradataAsterR)\n",
    "library(modelFactoryR)\n",
    "library(randomForest)\n",
    "library(methods)\n",
    "library(ggplot2)"
   ]
  },
  {
   "cell_type": "markdown",
   "metadata": {},
   "source": [
    "## 1. Get connection; define model_id, get session id"
   ]
  },
  {
   "cell_type": "code",
   "execution_count": null,
   "metadata": {
    "collapsed": true
   },
   "outputs": [],
   "source": [
    "getTaConnection()"
   ]
  },
  {
   "cell_type": "code",
   "execution_count": 4,
   "metadata": {
    "collapsed": true
   },
   "outputs": [],
   "source": [
    "model_id = 'titanic_training'"
   ]
  },
  {
   "cell_type": "code",
   "execution_count": 5,
   "metadata": {
    "collapsed": false
   },
   "outputs": [
    {
     "data": {
      "text/html": [
       "-2"
      ],
      "text/latex": [
       "-2"
      ],
      "text/markdown": [
       "-2"
      ],
      "text/plain": [
       "[1] -2"
      ]
     },
     "execution_count": 5,
     "metadata": {},
     "output_type": "execute_result"
    }
   ],
   "source": [
    "#main.addModelId('titanic_training','Training on titanic data','passengerid')\n",
    "getSessionId(model_id)\n",
    "## this will also create a global variable session_id"
   ]
  },
  {
   "cell_type": "markdown",
   "metadata": {},
   "source": [
    "## 2. Load the data\n",
    "\n",
    "Could be the data from postgres SQL as well -> you would use pd.read_sql"
   ]
  },
  {
   "cell_type": "code",
   "execution_count": 9,
   "metadata": {
    "collapsed": false,
    "scrolled": true
   },
   "outputs": [],
   "source": [
    "df <- read.csv('../data/titanic.csv')"
   ]
  },
  {
   "cell_type": "code",
   "execution_count": 10,
   "metadata": {
    "collapsed": false
   },
   "outputs": [
    {
     "data": {
      "text/html": [
       "<table>\n",
       "<thead><tr><th></th><th scope=col>passengerid</th><th scope=col>survived</th><th scope=col>pclass</th><th scope=col>name</th><th scope=col>sex</th><th scope=col>age</th><th scope=col>sibsp</th><th scope=col>parch</th><th scope=col>ticket</th><th scope=col>fare</th><th scope=col>cabin</th><th scope=col>embarked</th><th scope=col>survived_int</th><th scope=col>title</th><th scope=col>family</th><th scope=col>train</th></tr></thead>\n",
       "<tbody>\n",
       "\t<tr><th scope=row>1</th><td>799</td><td>Perished</td><td>Third</td><td>Ibrahim Shawah, Mr. Yousseff</td><td>male</td><td>30</td><td>0</td><td>0</td><td>2685</td><td>7.2292</td><td></td><td>C</td><td>0</td><td>Mr</td><td>0</td><td>1</td></tr>\n",
       "\t<tr><th scope=row>2</th><td>237</td><td>Perished</td><td>Second</td><td>Hold, Mr. Stephen</td><td>male</td><td>44</td><td>1</td><td>0</td><td>26707</td><td>26</td><td></td><td>S</td><td>0</td><td>Mr</td><td>1</td><td>1</td></tr>\n",
       "\t<tr><th scope=row>3</th><td>331</td><td>Survived</td><td>Third</td><td>McCoy, Miss. Agnes</td><td>female</td><td>21.47727</td><td>2</td><td>0</td><td>367226</td><td>23.25</td><td></td><td>Q</td><td>1</td><td>Miss</td><td>2</td><td>1</td></tr>\n",
       "\t<tr><th scope=row>4</th><td>509</td><td>Perished</td><td>Third</td><td>Olsen, Mr. Henry Margido</td><td>male</td><td>28</td><td>0</td><td>0</td><td>C 4001</td><td>22.525</td><td></td><td>S</td><td>0</td><td>Mr</td><td>0</td><td>1</td></tr>\n",
       "\t<tr><th scope=row>5</th><td>806</td><td>Perished</td><td>Third</td><td>Johansson, Mr. Karl Johan</td><td>male</td><td>31</td><td>0</td><td>0</td><td>347063</td><td>7.775</td><td></td><td>S</td><td>0</td><td>Mr</td><td>0</td><td>1</td></tr>\n",
       "\t<tr><th scope=row>6</th><td>179</td><td>Perished</td><td>Second</td><td>Hale, Mr. Reginald</td><td>male</td><td>30</td><td>0</td><td>0</td><td>250653</td><td>13</td><td></td><td>S</td><td>0</td><td>Mr</td><td>0</td><td>1</td></tr>\n",
       "</tbody>\n",
       "</table>\n"
      ],
      "text/latex": [
       "\\begin{tabular}{r|llllllllllllllll}\n",
       "  & passengerid & survived & pclass & name & sex & age & sibsp & parch & ticket & fare & cabin & embarked & survived_int & title & family & train\\\\\n",
       "\\hline\n",
       "\t1 & 799 & Perished & Third & Ibrahim Shawah, Mr. Yousseff & male & 30 & 0 & 0 & 2685 & 7.2292 &  & C & 0 & Mr & 0 & 1\\\\\n",
       "\t2 & 237 & Perished & Second & Hold, Mr. Stephen & male & 44 & 1 & 0 & 26707 & 26 &  & S & 0 & Mr & 1 & 1\\\\\n",
       "\t3 & 331 & Survived & Third & McCoy, Miss. Agnes & female & 21.47727 & 2 & 0 & 367226 & 23.25 &  & Q & 1 & Miss & 2 & 1\\\\\n",
       "\t4 & 509 & Perished & Third & Olsen, Mr. Henry Margido & male & 28 & 0 & 0 & C 4001 & 22.525 &  & S & 0 & Mr & 0 & 1\\\\\n",
       "\t5 & 806 & Perished & Third & Johansson, Mr. Karl Johan & male & 31 & 0 & 0 & 347063 & 7.775 &  & S & 0 & Mr & 0 & 1\\\\\n",
       "\t6 & 179 & Perished & Second & Hale, Mr. Reginald & male & 30 & 0 & 0 & 250653 & 13 &  & S & 0 & Mr & 0 & 1\\\\\n",
       "\\end{tabular}\n"
      ],
      "text/plain": [
       "  passengerid survived pclass                         name    sex      age\n",
       "1         799 Perished  Third Ibrahim Shawah, Mr. Yousseff   male 30.00000\n",
       "2         237 Perished Second            Hold, Mr. Stephen   male 44.00000\n",
       "3         331 Survived  Third           McCoy, Miss. Agnes female 21.47727\n",
       "4         509 Perished  Third     Olsen, Mr. Henry Margido   male 28.00000\n",
       "5         806 Perished  Third    Johansson, Mr. Karl Johan   male 31.00000\n",
       "6         179 Perished Second           Hale, Mr. Reginald   male 30.00000\n",
       "  sibsp parch ticket    fare cabin embarked survived_int title family train\n",
       "1     0     0   2685  7.2292              C            0    Mr      0     1\n",
       "2     1     0  26707 26.0000              S            0    Mr      1     1\n",
       "3     2     0 367226 23.2500              Q            1  Miss      2     1\n",
       "4     0     0 C 4001 22.5250              S            0    Mr      0     1\n",
       "5     0     0 347063  7.7750              S            0    Mr      0     1\n",
       "6     0     0 250653 13.0000              S            0    Mr      0     1"
      ]
     },
     "execution_count": 10,
     "metadata": {},
     "output_type": "execute_result"
    }
   ],
   "source": [
    "head(df)"
   ]
  },
  {
   "cell_type": "markdown",
   "metadata": {},
   "source": [
    "## 3. Get and store the summary"
   ]
  },
  {
   "cell_type": "code",
   "execution_count": 11,
   "metadata": {
    "collapsed": false
   },
   "outputs": [],
   "source": [
    "summary <- getSummary(df)"
   ]
  },
  {
   "cell_type": "code",
   "execution_count": 12,
   "metadata": {
    "collapsed": false
   },
   "outputs": [
    {
     "data": {
      "text/html": [
       "<table>\n",
       "<thead><tr><th></th><th scope=col>mean</th><th scope=col>sd</th><th scope=col>median</th><th scope=col>min</th><th scope=col>max</th><th scope=col>n</th><th scope=col>n_na</th><th scope=col>variable</th></tr></thead>\n",
       "<tbody>\n",
       "\t<tr><th scope=row>1</th><td>446</td><td>257.3538</td><td>446</td><td>1</td><td>891</td><td>891</td><td>0</td><td>passengerid</td></tr>\n",
       "\t<tr><th scope=row>2</th><td>29.60361</td><td>13.49079</td><td>29.32824</td><td>0.42</td><td>80</td><td>891</td><td>0</td><td>age</td></tr>\n",
       "\t<tr><th scope=row>3</th><td>0.5230079</td><td>1.102743</td><td>0</td><td>0</td><td>8</td><td>891</td><td>0</td><td>sibsp</td></tr>\n",
       "\t<tr><th scope=row>4</th><td>0.3815937</td><td>0.8060572</td><td>0</td><td>0</td><td>6</td><td>891</td><td>0</td><td>parch</td></tr>\n",
       "\t<tr><th scope=row>5</th><td>32.6897</td><td>49.6073</td><td>14.5</td><td>4.0125</td><td>512.3292</td><td>891</td><td>0</td><td>fare</td></tr>\n",
       "\t<tr><th scope=row>6</th><td>0.3838384</td><td>0.4865925</td><td>0</td><td>0</td><td>1</td><td>891</td><td>0</td><td>survived_int</td></tr>\n",
       "</tbody>\n",
       "</table>\n"
      ],
      "text/latex": [
       "\\begin{tabular}{r|llllllll}\n",
       "  & mean & sd & median & min & max & n & n_na & variable\\\\\n",
       "\\hline\n",
       "\t1 & 446 & 257.3538 & 446 & 1 & 891 & 891 & 0 & passengerid\\\\\n",
       "\t2 & 29.60361 & 13.49079 & 29.32824 & 0.42 & 80 & 891 & 0 & age\\\\\n",
       "\t3 & 0.5230079 & 1.102743 & 0 & 0 & 8 & 891 & 0 & sibsp\\\\\n",
       "\t4 & 0.3815937 & 0.8060572 & 0 & 0 & 6 & 891 & 0 & parch\\\\\n",
       "\t5 & 32.6897 & 49.6073 & 14.5 & 4.0125 & 512.3292 & 891 & 0 & fare\\\\\n",
       "\t6 & 0.3838384 & 0.4865925 & 0 & 0 & 1 & 891 & 0 & survived_int\\\\\n",
       "\\end{tabular}\n"
      ],
      "text/plain": [
       "         mean          sd    median    min      max   n n_na     variable\n",
       "1 446.0000000 257.3538420 446.00000 1.0000 891.0000 891    0  passengerid\n",
       "2  29.6036097  13.4907855  29.32824 0.4200  80.0000 891    0          age\n",
       "3   0.5230079   1.1027434   0.00000 0.0000   8.0000 891    0        sibsp\n",
       "4   0.3815937   0.8060572   0.00000 0.0000   6.0000 891    0        parch\n",
       "5  32.6897018  49.6072983  14.50000 4.0125 512.3292 891    0         fare\n",
       "6   0.3838384   0.4865925   0.00000 0.0000   1.0000 891    0 survived_int"
      ]
     },
     "execution_count": 12,
     "metadata": {},
     "output_type": "execute_result"
    }
   ],
   "source": [
    "head(summary)"
   ]
  },
  {
   "cell_type": "code",
   "execution_count": 13,
   "metadata": {
    "collapsed": false
   },
   "outputs": [
    {
     "data": {
      "text/html": [
       "-2"
      ],
      "text/latex": [
       "-2"
      ],
      "text/markdown": [
       "-2"
      ],
      "text/plain": [
       "[1] -2"
      ]
     },
     "execution_count": 13,
     "metadata": {},
     "output_type": "execute_result"
    }
   ],
   "source": [
    "storeSummary(summary)"
   ]
  },
  {
   "cell_type": "code",
   "execution_count": 16,
   "metadata": {
    "collapsed": false
   },
   "outputs": [
    {
     "data": {
      "text/html": [
       "<table>\n",
       "<thead><tr><th></th><th scope=col>session_id</th><th scope=col>variable</th><th scope=col>mean</th><th scope=col>sd</th><th scope=col>median</th><th scope=col>min</th><th scope=col>max</th><th scope=col>n</th><th scope=col>n_na</th></tr></thead>\n",
       "<tbody>\n",
       "\t<tr><th scope=row>1</th><td>vecht499_titanic_training_20161116_972077</td><td>survived_int</td><td>0.383838</td><td>0.486592</td><td>0</td><td>0</td><td>1</td><td>891</td><td>0</td></tr>\n",
       "\t<tr><th scope=row>2</th><td>vecht499_titanic_training_20161116_972077</td><td>family</td><td>0.904602</td><td>1.613459</td><td>0</td><td>0</td><td>10</td><td>891</td><td>0</td></tr>\n",
       "\t<tr><th scope=row>3</th><td>vecht499_titanic_training_20161116_972077</td><td>passengerid</td><td>446</td><td>257.3538</td><td>446</td><td>1</td><td>891</td><td>891</td><td>0</td></tr>\n",
       "\t<tr><th scope=row>4</th><td>vecht499_titanic_training_20161116_972077</td><td>parch</td><td>0.381594</td><td>0.806057</td><td>0</td><td>0</td><td>6</td><td>891</td><td>0</td></tr>\n",
       "\t<tr><th scope=row>5</th><td>vecht499_titanic_training_20161116_972077</td><td>fare</td><td>32.6897</td><td>49.6073</td><td>14.5</td><td>4.0125</td><td>512.3292</td><td>891</td><td>0</td></tr>\n",
       "\t<tr><th scope=row>6</th><td>vecht499_titanic_training_20161116_972077</td><td>train</td><td>0.749719</td><td>0.433418</td><td>1</td><td>0</td><td>1</td><td>891</td><td>0</td></tr>\n",
       "\t<tr><th scope=row>7</th><td>vecht499_titanic_training_20161116_972077</td><td>sibsp</td><td>0.523008</td><td>1.102743</td><td>0</td><td>0</td><td>8</td><td>891</td><td>0</td></tr>\n",
       "\t<tr><th scope=row>8</th><td>vecht499_titanic_training_20161116_972077</td><td>age</td><td>29.60361</td><td>13.49079</td><td>29.32824</td><td>0.42</td><td>80</td><td>891</td><td>0</td></tr>\n",
       "</tbody>\n",
       "</table>\n"
      ],
      "text/latex": [
       "\\begin{tabular}{r|lllllllll}\n",
       "  & session_id & variable & mean & sd & median & min & max & n & n_na\\\\\n",
       "\\hline\n",
       "\t1 & vecht499_titanic_training_20161116_972077 & survived_int & 0.383838 & 0.486592 & 0 & 0 & 1 & 891 & 0\\\\\n",
       "\t2 & vecht499_titanic_training_20161116_972077 & family & 0.904602 & 1.613459 & 0 & 0 & 10 & 891 & 0\\\\\n",
       "\t3 & vecht499_titanic_training_20161116_972077 & passengerid & 446 & 257.3538 & 446 & 1 & 891 & 891 & 0\\\\\n",
       "\t4 & vecht499_titanic_training_20161116_972077 & parch & 0.381594 & 0.806057 & 0 & 0 & 6 & 891 & 0\\\\\n",
       "\t5 & vecht499_titanic_training_20161116_972077 & fare & 32.6897 & 49.6073 & 14.5 & 4.0125 & 512.3292 & 891 & 0\\\\\n",
       "\t6 & vecht499_titanic_training_20161116_972077 & train & 0.749719 & 0.433418 & 1 & 0 & 1 & 891 & 0\\\\\n",
       "\t7 & vecht499_titanic_training_20161116_972077 & sibsp & 0.523008 & 1.102743 & 0 & 0 & 8 & 891 & 0\\\\\n",
       "\t8 & vecht499_titanic_training_20161116_972077 & age & 29.60361 & 13.49079 & 29.32824 & 0.42 & 80 & 891 & 0\\\\\n",
       "\\end{tabular}\n"
      ],
      "text/plain": [
       "                                 session_id     variable       mean         sd\n",
       "1 vecht499_titanic_training_20161116_972077 survived_int   0.383838   0.486592\n",
       "2 vecht499_titanic_training_20161116_972077       family   0.904602   1.613459\n",
       "3 vecht499_titanic_training_20161116_972077  passengerid 446.000000 257.353842\n",
       "4 vecht499_titanic_training_20161116_972077        parch   0.381594   0.806057\n",
       "5 vecht499_titanic_training_20161116_972077         fare  32.689702  49.607298\n",
       "6 vecht499_titanic_training_20161116_972077        train   0.749719   0.433418\n",
       "7 vecht499_titanic_training_20161116_972077        sibsp   0.523008   1.102743\n",
       "8 vecht499_titanic_training_20161116_972077          age  29.603610  13.490785\n",
       "     median    min      max   n n_na\n",
       "1   0.00000 0.0000   1.0000 891    0\n",
       "2   0.00000 0.0000  10.0000 891    0\n",
       "3 446.00000 1.0000 891.0000 891    0\n",
       "4   0.00000 0.0000   6.0000 891    0\n",
       "5  14.50000 4.0125 512.3292 891    0\n",
       "6   1.00000 0.0000   1.0000 891    0\n",
       "7   0.00000 0.0000   8.0000 891    0\n",
       "8  29.32824 0.4200  80.0000 891    0"
      ]
     },
     "execution_count": 16,
     "metadata": {},
     "output_type": "execute_result"
    }
   ],
   "source": [
    "## as we can see, the data is actually stored\n",
    "pullSummary(session_id)"
   ]
  },
  {
   "cell_type": "markdown",
   "metadata": {},
   "source": [
    "## 4. Create  train and test set, build a model on the training set"
   ]
  },
  {
   "cell_type": "code",
   "execution_count": 17,
   "metadata": {
    "collapsed": false
   },
   "outputs": [],
   "source": [
    "set.seed(0)\n",
    "train_sample = sample(seq_len(nrow(df)),size=floor(0.75*nrow(df)))\n",
    "train <- df[train_sample,]\n",
    "test <- df[-train_sample,]"
   ]
  },
  {
   "cell_type": "code",
   "execution_count": 18,
   "metadata": {
    "collapsed": true
   },
   "outputs": [],
   "source": [
    "formula <- as.formula(survived ~ sex + pclass + age + family + embarked + title)\n",
    "forest <- randomForest(formula,data= train,ntree=100,mtry=4,keep.forest=TRUE)"
   ]
  },
  {
   "cell_type": "markdown",
   "metadata": {},
   "source": [
    "## 5. Create variable importance, store it"
   ]
  },
  {
   "cell_type": "code",
   "execution_count": 19,
   "metadata": {
    "collapsed": false
   },
   "outputs": [],
   "source": [
    "varimp <- getVarimp(\"randomForest\",forest)"
   ]
  },
  {
   "cell_type": "code",
   "execution_count": 20,
   "metadata": {
    "collapsed": false
   },
   "outputs": [
    {
     "data": {
      "text/html": [
       "-2"
      ],
      "text/latex": [
       "-2"
      ],
      "text/markdown": [
       "-2"
      ],
      "text/plain": [
       "[1] -2"
      ]
     },
     "execution_count": 20,
     "metadata": {},
     "output_type": "execute_result"
    }
   ],
   "source": [
    "storeVarImp(varimp$variable,varimp$importance)"
   ]
  },
  {
   "cell_type": "markdown",
   "metadata": {},
   "source": [
    "## 6. predict on the test set, getTestResults; storeTestResults; pull some statistics"
   ]
  },
  {
   "cell_type": "code",
   "execution_count": 21,
   "metadata": {
    "collapsed": true
   },
   "outputs": [],
   "source": [
    "forest_prediction <-  as.data.frame(predict(forest,newdata= test,\"prob\"))"
   ]
  },
  {
   "cell_type": "code",
   "execution_count": 22,
   "metadata": {
    "collapsed": false
   },
   "outputs": [
    {
     "data": {
      "text/html": [
       "<table>\n",
       "<thead><tr><th></th><th scope=col>scores</th><th scope=col>labels</th><th scope=col>population</th><th scope=col>target_population</th><th scope=col>true_positives</th><th scope=col>false_positives</th><th scope=col>true_negatives</th><th scope=col>false_negatives</th></tr></thead>\n",
       "<tbody>\n",
       "\t<tr><th scope=row>1</th><td>1</td><td>1</td><td>0.004484305</td><td>0.01234568</td><td>1</td><td>0</td><td>142</td><td>80</td></tr>\n",
       "\t<tr><th scope=row>2</th><td>1</td><td>1</td><td>0.00896861</td><td>0.02469136</td><td>2</td><td>0</td><td>142</td><td>79</td></tr>\n",
       "\t<tr><th scope=row>3</th><td>1</td><td>1</td><td>0.01345291</td><td>0.03703704</td><td>3</td><td>0</td><td>142</td><td>78</td></tr>\n",
       "\t<tr><th scope=row>4</th><td>1</td><td>0</td><td>0.01793722</td><td>0.03703704</td><td>3</td><td>1</td><td>141</td><td>78</td></tr>\n",
       "\t<tr><th scope=row>5</th><td>1</td><td>1</td><td>0.02242152</td><td>0.04938272</td><td>4</td><td>1</td><td>141</td><td>77</td></tr>\n",
       "\t<tr><th scope=row>6</th><td>1</td><td>1</td><td>0.02690583</td><td>0.0617284</td><td>5</td><td>1</td><td>141</td><td>76</td></tr>\n",
       "</tbody>\n",
       "</table>\n"
      ],
      "text/latex": [
       "\\begin{tabular}{r|llllllll}\n",
       "  & scores & labels & population & target_population & true_positives & false_positives & true_negatives & false_negatives\\\\\n",
       "\\hline\n",
       "\t1 & 1 & 1 & 0.004484305 & 0.01234568 & 1 & 0 & 142 & 80\\\\\n",
       "\t2 & 1 & 1 & 0.00896861 & 0.02469136 & 2 & 0 & 142 & 79\\\\\n",
       "\t3 & 1 & 1 & 0.01345291 & 0.03703704 & 3 & 0 & 142 & 78\\\\\n",
       "\t4 & 1 & 0 & 0.01793722 & 0.03703704 & 3 & 1 & 141 & 78\\\\\n",
       "\t5 & 1 & 1 & 0.02242152 & 0.04938272 & 4 & 1 & 141 & 77\\\\\n",
       "\t6 & 1 & 1 & 0.02690583 & 0.0617284 & 5 & 1 & 141 & 76\\\\\n",
       "\\end{tabular}\n"
      ],
      "text/plain": [
       "  scores labels  population target_population true_positives false_positives\n",
       "1      1      1 0.004484305        0.01234568              1               0\n",
       "2      1      1 0.008968610        0.02469136              2               0\n",
       "3      1      1 0.013452915        0.03703704              3               0\n",
       "4      1      0 0.017937220        0.03703704              3               1\n",
       "5      1      1 0.022421525        0.04938272              4               1\n",
       "6      1      1 0.026905830        0.06172840              5               1\n",
       "  true_negatives false_negatives\n",
       "1            142              80\n",
       "2            142              79\n",
       "3            142              78\n",
       "4            141              78\n",
       "5            141              77\n",
       "6            141              76"
      ]
     },
     "execution_count": 22,
     "metadata": {},
     "output_type": "execute_result"
    }
   ],
   "source": [
    "test_results <- getTestResults(forest_prediction$Survived,test$survived_int)\n",
    "head(test_results)"
   ]
  },
  {
   "cell_type": "code",
   "execution_count": 23,
   "metadata": {
    "collapsed": false
   },
   "outputs": [
    {
     "data": {
      "text/html": [
       "-2"
      ],
      "text/latex": [
       "-2"
      ],
      "text/markdown": [
       "-2"
      ],
      "text/plain": [
       "[1] -2"
      ]
     },
     "execution_count": 23,
     "metadata": {},
     "output_type": "execute_result"
    }
   ],
   "source": [
    "storeTestResults(test_results)"
   ]
  },
  {
   "cell_type": "code",
   "execution_count": 25,
   "metadata": {
    "collapsed": false
   },
   "outputs": [
    {
     "data": {
      "text/html": [
       "<table>\n",
       "<thead><tr><th></th><th scope=col>session_id</th><th scope=col>score</th><th scope=col>label</th><th scope=col>population</th><th scope=col>target_population</th><th scope=col>true_positives</th><th scope=col>false_positives</th><th scope=col>true_negatives</th><th scope=col>false_negatives</th></tr></thead>\n",
       "<tbody>\n",
       "\t<tr><th scope=row>1</th><td>vecht499_titanic_training_20161116_972077</td><td>0.94</td><td>1</td><td>0.188341</td><td>0.444444</td><td>36</td><td>6</td><td>136</td><td>45</td></tr>\n",
       "\t<tr><th scope=row>2</th><td>vecht499_titanic_training_20161116_972077</td><td>0.94</td><td>1</td><td>0.192825</td><td>0.45679</td><td>37</td><td>6</td><td>136</td><td>44</td></tr>\n",
       "\t<tr><th scope=row>3</th><td>vecht499_titanic_training_20161116_972077</td><td>0.94</td><td>1</td><td>0.197309</td><td>0.469136</td><td>38</td><td>6</td><td>136</td><td>43</td></tr>\n",
       "\t<tr><th scope=row>4</th><td>vecht499_titanic_training_20161116_972077</td><td>0.94</td><td>1</td><td>0.201794</td><td>0.481481</td><td>39</td><td>6</td><td>136</td><td>42</td></tr>\n",
       "\t<tr><th scope=row>5</th><td>vecht499_titanic_training_20161116_972077</td><td>0.94</td><td>1</td><td>0.206278</td><td>0.493827</td><td>40</td><td>6</td><td>136</td><td>41</td></tr>\n",
       "\t<tr><th scope=row>6</th><td>vecht499_titanic_training_20161116_972077</td><td>0.94</td><td>1</td><td>0.210762</td><td>0.506173</td><td>41</td><td>6</td><td>136</td><td>40</td></tr>\n",
       "</tbody>\n",
       "</table>\n"
      ],
      "text/latex": [
       "\\begin{tabular}{r|lllllllll}\n",
       "  & session_id & score & label & population & target_population & true_positives & false_positives & true_negatives & false_negatives\\\\\n",
       "\\hline\n",
       "\t1 & vecht499_titanic_training_20161116_972077 & 0.94 & 1 & 0.188341 & 0.444444 & 36 & 6 & 136 & 45\\\\\n",
       "\t2 & vecht499_titanic_training_20161116_972077 & 0.94 & 1 & 0.192825 & 0.45679 & 37 & 6 & 136 & 44\\\\\n",
       "\t3 & vecht499_titanic_training_20161116_972077 & 0.94 & 1 & 0.197309 & 0.469136 & 38 & 6 & 136 & 43\\\\\n",
       "\t4 & vecht499_titanic_training_20161116_972077 & 0.94 & 1 & 0.201794 & 0.481481 & 39 & 6 & 136 & 42\\\\\n",
       "\t5 & vecht499_titanic_training_20161116_972077 & 0.94 & 1 & 0.206278 & 0.493827 & 40 & 6 & 136 & 41\\\\\n",
       "\t6 & vecht499_titanic_training_20161116_972077 & 0.94 & 1 & 0.210762 & 0.506173 & 41 & 6 & 136 & 40\\\\\n",
       "\\end{tabular}\n"
      ],
      "text/plain": [
       "                                 session_id score label population\n",
       "1 vecht499_titanic_training_20161116_972077  0.94     1   0.188341\n",
       "2 vecht499_titanic_training_20161116_972077  0.94     1   0.192825\n",
       "3 vecht499_titanic_training_20161116_972077  0.94     1   0.197309\n",
       "4 vecht499_titanic_training_20161116_972077  0.94     1   0.201794\n",
       "5 vecht499_titanic_training_20161116_972077  0.94     1   0.206278\n",
       "6 vecht499_titanic_training_20161116_972077  0.94     1   0.210762\n",
       "  target_population true_positives false_positives true_negatives\n",
       "1          0.444444             36               6            136\n",
       "2          0.456790             37               6            136\n",
       "3          0.469136             38               6            136\n",
       "4          0.481481             39               6            136\n",
       "5          0.493827             40               6            136\n",
       "6          0.506173             41               6            136\n",
       "  false_negatives\n",
       "1              45\n",
       "2              44\n",
       "3              43\n",
       "4              42\n",
       "5              41\n",
       "6              40"
      ]
     },
     "execution_count": 25,
     "metadata": {},
     "output_type": "execute_result"
    }
   ],
   "source": [
    "## as we can see, the data is actually stored\n",
    "head(pullTestResults(session_id))"
   ]
  },
  {
   "cell_type": "code",
   "execution_count": 26,
   "metadata": {
    "collapsed": true
   },
   "outputs": [],
   "source": [
    "roc <- pullROC(session_id)\n",
    "liftchart <- pullLiftChart(session_id)"
   ]
  },
  {
   "cell_type": "code",
   "execution_count": 37,
   "metadata": {
    "collapsed": false
   },
   "outputs": [
    {
     "data": {
      "image/png": "[encoded data removed]",
      "image/svg+xml": [
       "<?xml version=\"1.0\" encoding=\"UTF-8\"?>\n",
       "<svg xmlns=\"http://www.w3.org/2000/svg\" xmlns:xlink=\"http://www.w3.org/1999/xlink\" width=\"504pt\" height=\"504pt\" viewBox=\"0 0 504 504\" version=\"1.1\">\n",
       "<defs>\n",
       "<g>\n",
       "<symbol overflow=\"visible\" id=\"glyph0-0\">\n",
       "<path style=\"stroke:none;\" d=\"M 0.367188 -3.105469 C 0.363281 -3.847656 0.4375 -4.445313 0.59375 -4.902344 C 0.742188 -5.355469 0.972656 -5.707031 1.277344 -5.953125 C 1.578125 -6.199219 1.957031 -6.320313 2.417969 -6.324219 C 2.753906 -6.320313 3.050781 -6.253906 3.308594 -6.121094 C 3.5625 -5.984375 3.773438 -5.789063 3.9375 -5.53125 C 4.101563 -5.273438 4.230469 -4.960938 4.328125 -4.59375 C 4.421875 -4.226563 4.46875 -3.730469 4.472656 -3.105469 C 4.46875 -2.367188 4.394531 -1.769531 4.242188 -1.316406 C 4.089844 -0.859375 3.863281 -0.507813 3.5625 -0.261719 C 3.257813 -0.015625 2.875 0.105469 2.417969 0.109375 C 1.808594 0.105469 1.332031 -0.109375 0.988281 -0.546875 C 0.570313 -1.066406 0.363281 -1.921875 0.367188 -3.105469 Z M 1.160156 -3.105469 C 1.160156 -2.070313 1.28125 -1.378906 1.523438 -1.039063 C 1.765625 -0.695313 2.0625 -0.527344 2.417969 -0.527344 C 2.773438 -0.527344 3.074219 -0.699219 3.316406 -1.042969 C 3.558594 -1.386719 3.679688 -2.074219 3.679688 -3.105469 C 3.679688 -4.144531 3.558594 -4.832031 3.316406 -5.171875 C 3.074219 -5.511719 2.769531 -5.683594 2.410156 -5.683594 C 2.050781 -5.683594 1.769531 -5.53125 1.558594 -5.234375 C 1.292969 -4.84375 1.160156 -4.136719 1.160156 -3.105469 Z M 1.160156 -3.105469 \"/>\n",
       "</symbol>\n",
       "<symbol overflow=\"visible\" id=\"glyph0-1\">\n",
       "<path style=\"stroke:none;\" d=\"M 0.800781 0 L 0.800781 -0.882813 L 1.679688 -0.882813 L 1.679688 0 Z M 0.800781 0 \"/>\n",
       "</symbol>\n",
       "<symbol overflow=\"visible\" id=\"glyph0-2\">\n",
       "<path style=\"stroke:none;\" d=\"M 4.429688 -0.742188 L 4.429688 0 L 0.265625 0 C 0.257813 -0.1875 0.289063 -0.367188 0.355469 -0.539063 C 0.460938 -0.820313 0.628906 -1.097656 0.863281 -1.375 C 1.09375 -1.648438 1.433594 -1.964844 1.878906 -2.328125 C 2.5625 -2.886719 3.023438 -3.332031 3.265625 -3.664063 C 3.5 -3.988281 3.621094 -4.300781 3.625 -4.59375 C 3.621094 -4.898438 3.511719 -5.15625 3.296875 -5.367188 C 3.074219 -5.578125 2.789063 -5.683594 2.441406 -5.683594 C 2.066406 -5.683594 1.769531 -5.570313 1.546875 -5.347656 C 1.320313 -5.125 1.207031 -4.816406 1.207031 -4.421875 L 0.414063 -4.503906 C 0.464844 -5.09375 0.667969 -5.542969 1.027344 -5.855469 C 1.378906 -6.164063 1.855469 -6.320313 2.457031 -6.324219 C 3.058594 -6.320313 3.539063 -6.152344 3.890625 -5.820313 C 4.242188 -5.484375 4.417969 -5.070313 4.421875 -4.578125 C 4.417969 -4.320313 4.367188 -4.074219 4.265625 -3.832031 C 4.164063 -3.589844 3.992188 -3.332031 3.753906 -3.0625 C 3.511719 -2.792969 3.113281 -2.425781 2.5625 -1.957031 C 2.09375 -1.566406 1.796875 -1.300781 1.664063 -1.160156 C 1.53125 -1.019531 1.421875 -0.878906 1.339844 -0.742188 Z M 4.429688 -0.742188 \"/>\n",
       "</symbol>\n",
       "<symbol overflow=\"visible\" id=\"glyph0-3\">\n",
       "<path style=\"stroke:none;\" d=\"M 0.367188 -1.648438 L 1.175781 -1.71875 C 1.234375 -1.320313 1.375 -1.023438 1.59375 -0.824219 C 1.8125 -0.625 2.078125 -0.527344 2.390625 -0.527344 C 2.761719 -0.527344 3.074219 -0.667969 3.335938 -0.949219 C 3.589844 -1.230469 3.71875 -1.601563 3.722656 -2.066406 C 3.71875 -2.503906 3.59375 -2.851563 3.347656 -3.109375 C 3.097656 -3.363281 2.773438 -3.492188 2.375 -3.492188 C 2.125 -3.492188 1.902344 -3.433594 1.703125 -3.320313 C 1.5 -3.207031 1.34375 -3.0625 1.230469 -2.882813 L 0.503906 -2.976563 L 1.113281 -6.214844 L 4.246094 -6.214844 L 4.246094 -5.472656 L 1.730469 -5.472656 L 1.390625 -3.78125 C 1.765625 -4.039063 2.164063 -4.171875 2.582031 -4.175781 C 3.128906 -4.171875 3.59375 -3.980469 3.972656 -3.605469 C 4.351563 -3.222656 4.539063 -2.734375 4.542969 -2.136719 C 4.539063 -1.5625 4.375 -1.070313 4.042969 -0.65625 C 3.636719 -0.148438 3.085938 0.105469 2.390625 0.109375 C 1.816406 0.105469 1.347656 -0.0507813 0.984375 -0.371094 C 0.621094 -0.691406 0.414063 -1.117188 0.367188 -1.648438 Z M 0.367188 -1.648438 \"/>\n",
       "</symbol>\n",
       "<symbol overflow=\"visible\" id=\"glyph0-4\">\n",
       "<path style=\"stroke:none;\" d=\"M 0.417969 -5.472656 L 0.417969 -6.21875 L 4.496094 -6.21875 L 4.496094 -5.617188 C 4.089844 -5.1875 3.691406 -4.621094 3.300781 -3.914063 C 2.902344 -3.203125 2.601563 -2.472656 2.390625 -1.730469 C 2.234375 -1.199219 2.132813 -0.625 2.09375 0 L 1.296875 0 C 1.304688 -0.492188 1.402344 -1.089844 1.589844 -1.792969 C 1.773438 -2.496094 2.042969 -3.171875 2.390625 -3.824219 C 2.738281 -4.476563 3.109375 -5.027344 3.503906 -5.472656 Z M 0.417969 -5.472656 \"/>\n",
       "</symbol>\n",
       "<symbol overflow=\"visible\" id=\"glyph0-5\">\n",
       "<path style=\"stroke:none;\" d=\"M 3.277344 0 L 2.503906 0 L 2.503906 -4.929688 C 2.316406 -4.75 2.074219 -4.574219 1.773438 -4.394531 C 1.46875 -4.214844 1.195313 -4.082031 0.957031 -3.996094 L 0.957031 -4.742188 C 1.386719 -4.941406 1.765625 -5.1875 2.089844 -5.480469 C 2.414063 -5.769531 2.644531 -6.050781 2.78125 -6.324219 L 3.277344 -6.324219 Z M 3.277344 0 \"/>\n",
       "</symbol>\n",
       "<symbol overflow=\"visible\" id=\"glyph0-6\">\n",
       "<path style=\"stroke:none;\" d=\"M 1.847656 0 L 0.113281 -4.5625 L 0.929688 -4.5625 L 1.90625 -1.832031 C 2.007813 -1.53125 2.105469 -1.222656 2.199219 -0.910156 C 2.265625 -1.148438 2.363281 -1.4375 2.488281 -1.777344 L 3.503906 -4.5625 L 4.296875 -4.5625 L 2.570313 0 Z M 1.847656 0 \"/>\n",
       "</symbol>\n",
       "<symbol overflow=\"visible\" id=\"glyph0-7\">\n",
       "<path style=\"stroke:none;\" d=\"M 3.703125 -1.46875 L 4.503906 -1.371094 C 4.375 -0.902344 4.140625 -0.539063 3.800781 -0.285156 C 3.460938 -0.0273438 3.027344 0.0976563 2.496094 0.101563 C 1.828125 0.0976563 1.296875 -0.101563 0.90625 -0.511719 C 0.511719 -0.917969 0.316406 -1.496094 0.320313 -2.242188 C 0.316406 -3.007813 0.515625 -3.605469 0.914063 -4.03125 C 1.308594 -4.453125 1.820313 -4.664063 2.453125 -4.667969 C 3.058594 -4.664063 3.554688 -4.457031 3.945313 -4.042969 C 4.328125 -3.628906 4.523438 -3.042969 4.527344 -2.289063 C 4.523438 -2.242188 4.523438 -2.175781 4.523438 -2.085938 L 1.121094 -2.085938 C 1.144531 -1.582031 1.289063 -1.195313 1.546875 -0.929688 C 1.800781 -0.660156 2.117188 -0.527344 2.5 -0.53125 C 2.78125 -0.527344 3.023438 -0.601563 3.226563 -0.753906 C 3.425781 -0.902344 3.585938 -1.140625 3.703125 -1.46875 Z M 1.164063 -2.71875 L 3.710938 -2.71875 C 3.671875 -3.101563 3.578125 -3.386719 3.421875 -3.582031 C 3.171875 -3.878906 2.851563 -4.03125 2.460938 -4.03125 C 2.105469 -4.03125 1.804688 -3.910156 1.566406 -3.671875 C 1.320313 -3.433594 1.1875 -3.117188 1.164063 -2.71875 Z M 1.164063 -2.71875 \"/>\n",
       "</symbol>\n",
       "<symbol overflow=\"visible\" id=\"glyph0-8\">\n",
       "<path style=\"stroke:none;\" d=\"M 3.558594 -1.671875 L 4.320313 -1.574219 C 4.234375 -1.046875 4.023438 -0.636719 3.679688 -0.339844 C 3.335938 -0.046875 2.914063 0.0976563 2.417969 0.101563 C 1.792969 0.0976563 1.292969 -0.101563 0.914063 -0.507813 C 0.53125 -0.914063 0.339844 -1.5 0.34375 -2.265625 C 0.339844 -2.753906 0.421875 -3.183594 0.585938 -3.558594 C 0.75 -3.925781 0.996094 -4.203125 1.332031 -4.390625 C 1.664063 -4.570313 2.027344 -4.664063 2.421875 -4.667969 C 2.914063 -4.664063 3.320313 -4.539063 3.640625 -4.289063 C 3.953125 -4.039063 4.15625 -3.683594 4.246094 -3.222656 L 3.492188 -3.105469 C 3.421875 -3.410156 3.292969 -3.640625 3.113281 -3.796875 C 2.925781 -3.953125 2.707031 -4.03125 2.453125 -4.03125 C 2.0625 -4.03125 1.746094 -3.890625 1.503906 -3.609375 C 1.257813 -3.328125 1.136719 -2.886719 1.140625 -2.285156 C 1.136719 -1.671875 1.253906 -1.226563 1.492188 -0.949219 C 1.722656 -0.667969 2.027344 -0.527344 2.410156 -0.53125 C 2.710938 -0.527344 2.964844 -0.621094 3.171875 -0.808594 C 3.371094 -0.996094 3.5 -1.28125 3.558594 -1.671875 Z M 3.558594 -1.671875 \"/>\n",
       "</symbol>\n",
       "<symbol overflow=\"visible\" id=\"glyph0-9\">\n",
       "<path style=\"stroke:none;\" d=\"M 0.578125 0 L 0.578125 -6.300781 L 1.351563 -6.300781 L 1.351563 -4.039063 C 1.710938 -4.453125 2.167969 -4.664063 2.71875 -4.667969 C 3.054688 -4.664063 3.347656 -4.597656 3.601563 -4.464844 C 3.847656 -4.332031 4.027344 -4.148438 4.136719 -3.914063 C 4.242188 -3.679688 4.292969 -3.335938 4.296875 -2.890625 L 4.296875 0 L 3.523438 0 L 3.523438 -2.890625 C 3.519531 -3.273438 3.4375 -3.554688 3.269531 -3.734375 C 3.101563 -3.90625 2.863281 -3.996094 2.5625 -4 C 2.328125 -3.996094 2.113281 -3.9375 1.914063 -3.820313 C 1.710938 -3.703125 1.566406 -3.542969 1.480469 -3.339844 C 1.390625 -3.136719 1.347656 -2.855469 1.351563 -2.496094 L 1.351563 0 Z M 0.578125 0 \"/>\n",
       "</symbol>\n",
       "<symbol overflow=\"visible\" id=\"glyph0-10\">\n",
       "<path style=\"stroke:none;\" d=\"M 2.269531 -0.691406 L 2.378906 -0.0078125 C 2.160156 0.0390625 1.964844 0.0585938 1.796875 0.0585938 C 1.511719 0.0585938 1.292969 0.015625 1.140625 -0.0742188 C 0.984375 -0.160156 0.875 -0.277344 0.816406 -0.421875 C 0.75 -0.566406 0.71875 -0.871094 0.722656 -1.335938 L 0.722656 -3.960938 L 0.15625 -3.960938 L 0.15625 -4.5625 L 0.722656 -4.5625 L 0.722656 -5.695313 L 1.492188 -6.15625 L 1.492188 -4.5625 L 2.269531 -4.5625 L 2.269531 -3.960938 L 1.492188 -3.960938 L 1.492188 -1.292969 C 1.488281 -1.070313 1.5 -0.929688 1.53125 -0.867188 C 1.554688 -0.804688 1.601563 -0.753906 1.664063 -0.714844 C 1.726563 -0.675781 1.8125 -0.65625 1.929688 -0.660156 C 2.011719 -0.65625 2.125 -0.667969 2.269531 -0.691406 Z M 2.269531 -0.691406 \"/>\n",
       "</symbol>\n",
       "<symbol overflow=\"visible\" id=\"glyph0-11\">\n",
       "<path style=\"stroke:none;\" d=\"M 2.84375 0 L 2.84375 -1.507813 L 0.113281 -1.507813 L 0.113281 -2.21875 L 2.988281 -6.300781 L 3.617188 -6.300781 L 3.617188 -2.21875 L 4.46875 -2.21875 L 4.46875 -1.507813 L 3.617188 -1.507813 L 3.617188 0 Z M 2.84375 -2.21875 L 2.84375 -5.058594 L 0.871094 -2.21875 Z M 2.84375 -2.21875 \"/>\n",
       "</symbol>\n",
       "<symbol overflow=\"visible\" id=\"glyph0-12\">\n",
       "<path style=\"stroke:none;\" d=\"M 0.480469 -1.457031 L 1.226563 -1.527344 C 1.285156 -1.171875 1.40625 -0.917969 1.585938 -0.761719 C 1.761719 -0.605469 1.988281 -0.527344 2.269531 -0.527344 C 2.503906 -0.527344 2.714844 -0.582031 2.894531 -0.691406 C 3.074219 -0.800781 3.21875 -0.945313 3.335938 -1.128906 C 3.445313 -1.308594 3.542969 -1.554688 3.621094 -1.863281 C 3.699219 -2.171875 3.738281 -2.484375 3.738281 -2.808594 C 3.738281 -2.839844 3.734375 -2.894531 3.734375 -2.964844 C 3.578125 -2.714844 3.367188 -2.511719 3.101563 -2.363281 C 2.828125 -2.207031 2.539063 -2.132813 2.230469 -2.136719 C 1.707031 -2.132813 1.265625 -2.320313 0.90625 -2.703125 C 0.542969 -3.078125 0.363281 -3.578125 0.367188 -4.199219 C 0.363281 -4.835938 0.550781 -5.347656 0.929688 -5.738281 C 1.304688 -6.125 1.777344 -6.320313 2.347656 -6.324219 C 2.753906 -6.320313 3.128906 -6.210938 3.46875 -5.992188 C 3.808594 -5.769531 4.066406 -5.457031 4.242188 -5.050781 C 4.417969 -4.640625 4.503906 -4.046875 4.507813 -3.277344 C 4.503906 -2.46875 4.417969 -1.828125 4.246094 -1.355469 C 4.070313 -0.875 3.808594 -0.511719 3.464844 -0.265625 C 3.117188 -0.015625 2.714844 0.105469 2.25 0.109375 C 1.757813 0.105469 1.355469 -0.0273438 1.042969 -0.300781 C 0.730469 -0.574219 0.542969 -0.960938 0.480469 -1.457031 Z M 3.648438 -4.238281 C 3.644531 -4.675781 3.527344 -5.027344 3.292969 -5.292969 C 3.054688 -5.550781 2.769531 -5.683594 2.441406 -5.683594 C 2.09375 -5.683594 1.792969 -5.542969 1.542969 -5.261719 C 1.285156 -4.980469 1.160156 -4.617188 1.160156 -4.171875 C 1.160156 -3.769531 1.28125 -3.441406 1.523438 -3.195313 C 1.765625 -2.941406 2.0625 -2.816406 2.417969 -2.820313 C 2.773438 -2.816406 3.066406 -2.941406 3.300781 -3.195313 C 3.527344 -3.441406 3.644531 -3.789063 3.648438 -4.238281 Z M 3.648438 -4.238281 \"/>\n",
       "</symbol>\n",
       "<symbol overflow=\"visible\" id=\"glyph0-13\">\n",
       "<path style=\"stroke:none;\" d=\"M -0.132813 1.75 L -0.132813 1.191406 L 4.992188 1.191406 L 4.992188 1.75 Z M -0.132813 1.75 \"/>\n",
       "</symbol>\n",
       "<symbol overflow=\"visible\" id=\"glyph0-14\">\n",
       "<path style=\"stroke:none;\" d=\"M 0.585938 -5.410156 L 0.585938 -6.300781 L 1.359375 -6.300781 L 1.359375 -5.410156 Z M 0.585938 0 L 0.585938 -4.5625 L 1.359375 -4.5625 L 1.359375 0 Z M 0.585938 0 \"/>\n",
       "</symbol>\n",
       "<symbol overflow=\"visible\" id=\"glyph0-15\">\n",
       "<path style=\"stroke:none;\" d=\"M 3.558594 -0.5625 C 3.269531 -0.320313 2.996094 -0.148438 2.730469 -0.046875 C 2.464844 0.0507813 2.179688 0.0976563 1.878906 0.101563 C 1.375 0.0976563 0.988281 -0.0195313 0.71875 -0.265625 C 0.449219 -0.507813 0.316406 -0.820313 0.316406 -1.203125 C 0.316406 -1.421875 0.367188 -1.628906 0.46875 -1.816406 C 0.570313 -2 0.703125 -2.148438 0.871094 -2.261719 C 1.03125 -2.371094 1.214844 -2.453125 1.425781 -2.515625 C 1.574219 -2.550781 1.804688 -2.589844 2.113281 -2.628906 C 2.734375 -2.703125 3.195313 -2.792969 3.492188 -2.894531 C 3.492188 -3 3.492188 -3.066406 3.496094 -3.097656 C 3.492188 -3.410156 3.417969 -3.632813 3.277344 -3.765625 C 3.074219 -3.9375 2.78125 -4.023438 2.398438 -4.027344 C 2.03125 -4.023438 1.761719 -3.960938 1.589844 -3.835938 C 1.414063 -3.707031 1.289063 -3.480469 1.207031 -3.160156 L 0.453125 -3.261719 C 0.515625 -3.582031 0.628906 -3.84375 0.789063 -4.042969 C 0.945313 -4.242188 1.171875 -4.394531 1.472656 -4.503906 C 1.769531 -4.609375 2.117188 -4.664063 2.507813 -4.667969 C 2.898438 -4.664063 3.214844 -4.617188 3.457031 -4.527344 C 3.699219 -4.433594 3.878906 -4.320313 3.996094 -4.183594 C 4.109375 -4.042969 4.1875 -3.867188 4.238281 -3.65625 C 4.257813 -3.523438 4.269531 -3.285156 4.273438 -2.945313 L 4.273438 -1.914063 C 4.269531 -1.191406 4.289063 -0.734375 4.324219 -0.546875 C 4.355469 -0.351563 4.417969 -0.171875 4.519531 0 L 3.710938 0 C 3.628906 -0.160156 3.578125 -0.347656 3.558594 -0.5625 Z M 3.492188 -2.289063 C 3.210938 -2.171875 2.789063 -2.074219 2.230469 -2 C 1.910156 -1.949219 1.683594 -1.898438 1.554688 -1.84375 C 1.421875 -1.785156 1.320313 -1.699219 1.25 -1.589844 C 1.175781 -1.476563 1.140625 -1.355469 1.144531 -1.226563 C 1.140625 -1.015625 1.21875 -0.84375 1.378906 -0.707031 C 1.53125 -0.570313 1.761719 -0.503906 2.0625 -0.503906 C 2.359375 -0.503906 2.621094 -0.566406 2.855469 -0.699219 C 3.085938 -0.824219 3.257813 -1.003906 3.367188 -1.234375 C 3.449219 -1.40625 3.492188 -1.664063 3.492188 -2.007813 Z M 3.492188 -2.289063 \"/>\n",
       "</symbol>\n",
       "<symbol overflow=\"visible\" id=\"glyph0-16\">\n",
       "<path style=\"stroke:none;\" d=\"M 0.578125 0 L 0.578125 -4.5625 L 1.277344 -4.5625 L 1.277344 -3.914063 C 1.609375 -4.414063 2.089844 -4.664063 2.726563 -4.667969 C 3 -4.664063 3.253906 -4.613281 3.484375 -4.519531 C 3.714844 -4.417969 3.886719 -4.289063 4.003906 -4.128906 C 4.113281 -3.96875 4.195313 -3.777344 4.246094 -3.558594 C 4.273438 -3.410156 4.289063 -3.160156 4.289063 -2.804688 L 4.289063 0 L 3.515625 0 L 3.515625 -2.777344 C 3.515625 -3.089844 3.484375 -3.324219 3.425781 -3.484375 C 3.363281 -3.636719 3.257813 -3.761719 3.105469 -3.855469 C 2.949219 -3.949219 2.769531 -3.996094 2.566406 -3.996094 C 2.234375 -3.996094 1.949219 -3.890625 1.710938 -3.679688 C 1.46875 -3.46875 1.347656 -3.070313 1.351563 -2.492188 L 1.351563 0 Z M 0.578125 0 \"/>\n",
       "</symbol>\n",
       "<symbol overflow=\"visible\" id=\"glyph0-17\">\n",
       "<path style=\"stroke:none;\" d=\"M 0.570313 0 L 0.570313 -4.5625 L 1.265625 -4.5625 L 1.265625 -3.871094 C 1.445313 -4.191406 1.609375 -4.40625 1.757813 -4.511719 C 1.90625 -4.613281 2.070313 -4.664063 2.257813 -4.667969 C 2.515625 -4.664063 2.78125 -4.582031 3.050781 -4.417969 L 2.785156 -3.699219 C 2.589844 -3.808594 2.402344 -3.867188 2.21875 -3.867188 C 2.046875 -3.867188 1.894531 -3.816406 1.761719 -3.714844 C 1.625 -3.613281 1.527344 -3.472656 1.472656 -3.292969 C 1.382813 -3.015625 1.339844 -2.714844 1.34375 -2.390625 L 1.34375 0 Z M 0.570313 0 \"/>\n",
       "</symbol>\n",
       "<symbol overflow=\"visible\" id=\"glyph0-18\">\n",
       "<path style=\"stroke:none;\" d=\"M 0.4375 0.378906 L 1.191406 0.488281 C 1.21875 0.71875 1.308594 0.890625 1.453125 0.996094 C 1.644531 1.136719 1.90625 1.207031 2.238281 1.210938 C 2.597656 1.207031 2.871094 1.136719 3.066406 0.996094 C 3.257813 0.851563 3.390625 0.648438 3.464844 0.394531 C 3.5 0.234375 3.519531 -0.09375 3.519531 -0.597656 C 3.179688 -0.199219 2.757813 0 2.257813 0 C 1.625 0 1.140625 -0.226563 0.800781 -0.679688 C 0.453125 -1.132813 0.28125 -1.675781 0.285156 -2.308594 C 0.28125 -2.742188 0.359375 -3.140625 0.519531 -3.511719 C 0.675781 -3.878906 0.90625 -4.164063 1.207031 -4.367188 C 1.503906 -4.5625 1.855469 -4.664063 2.261719 -4.667969 C 2.796875 -4.664063 3.238281 -4.445313 3.59375 -4.011719 L 3.59375 -4.5625 L 4.304688 -4.5625 L 4.304688 -0.617188 C 4.300781 0.09375 4.226563 0.59375 4.085938 0.890625 C 3.9375 1.1875 3.710938 1.421875 3.398438 1.59375 C 3.085938 1.765625 2.699219 1.851563 2.242188 1.851563 C 1.695313 1.851563 1.253906 1.726563 0.921875 1.484375 C 0.585938 1.234375 0.425781 0.867188 0.4375 0.378906 Z M 1.078125 -2.363281 C 1.078125 -1.761719 1.195313 -1.324219 1.433594 -1.050781 C 1.671875 -0.773438 1.96875 -0.636719 2.328125 -0.640625 C 2.679688 -0.636719 2.980469 -0.773438 3.222656 -1.050781 C 3.460938 -1.320313 3.578125 -1.75 3.582031 -2.335938 C 3.578125 -2.894531 3.457031 -3.316406 3.210938 -3.601563 C 2.960938 -3.882813 2.660156 -4.023438 2.316406 -4.027344 C 1.96875 -4.023438 1.675781 -3.882813 1.4375 -3.605469 C 1.195313 -3.324219 1.078125 -2.910156 1.078125 -2.363281 Z M 1.078125 -2.363281 \"/>\n",
       "</symbol>\n",
       "<symbol overflow=\"visible\" id=\"glyph0-19\">\n",
       "<path style=\"stroke:none;\" d=\"M 4.378906 -4.757813 L 3.609375 -4.695313 C 3.539063 -4.996094 3.441406 -5.21875 3.316406 -5.359375 C 3.105469 -5.574219 2.847656 -5.683594 2.542969 -5.6875 C 2.296875 -5.683594 2.078125 -5.617188 1.894531 -5.484375 C 1.648438 -5.304688 1.457031 -5.042969 1.320313 -4.703125 C 1.175781 -4.363281 1.105469 -3.878906 1.101563 -3.25 C 1.285156 -3.53125 1.511719 -3.742188 1.78125 -3.878906 C 2.050781 -4.015625 2.332031 -4.082031 2.628906 -4.085938 C 3.140625 -4.082031 3.578125 -3.894531 3.945313 -3.515625 C 4.304688 -3.136719 4.488281 -2.644531 4.492188 -2.046875 C 4.488281 -1.648438 4.402344 -1.28125 4.234375 -0.941406 C 4.0625 -0.601563 3.828125 -0.339844 3.53125 -0.160156 C 3.230469 0.0195313 2.894531 0.105469 2.519531 0.109375 C 1.871094 0.105469 1.34375 -0.128906 0.941406 -0.601563 C 0.53125 -1.074219 0.328125 -1.855469 0.332031 -2.949219 C 0.328125 -4.160156 0.550781 -5.046875 1.003906 -5.601563 C 1.394531 -6.082031 1.925781 -6.320313 2.589844 -6.324219 C 3.085938 -6.320313 3.492188 -6.183594 3.808594 -5.90625 C 4.125 -5.628906 4.3125 -5.246094 4.378906 -4.757813 Z M 1.21875 -2.039063 C 1.21875 -1.773438 1.273438 -1.515625 1.386719 -1.273438 C 1.5 -1.027344 1.660156 -0.84375 1.863281 -0.71875 C 2.066406 -0.589844 2.277344 -0.527344 2.503906 -0.527344 C 2.828125 -0.527344 3.109375 -0.65625 3.347656 -0.921875 C 3.578125 -1.183594 3.695313 -1.542969 3.699219 -2 C 3.695313 -2.429688 3.582031 -2.773438 3.351563 -3.027344 C 3.117188 -3.273438 2.824219 -3.398438 2.476563 -3.402344 C 2.121094 -3.398438 1.824219 -3.273438 1.582031 -3.027344 C 1.339844 -2.773438 1.21875 -2.445313 1.21875 -2.039063 Z M 1.21875 -2.039063 \"/>\n",
       "</symbol>\n",
       "<symbol overflow=\"visible\" id=\"glyph1-0\">\n",
       "<path style=\"stroke:none;\" d=\"M 0.726563 2.1875 L 0.726563 -5.703125 L 1.605469 -5.703125 L 1.605469 -4.960938 C 1.8125 -5.25 2.046875 -5.46875 2.308594 -5.613281 C 2.570313 -5.757813 2.886719 -5.828125 3.261719 -5.832031 C 3.746094 -5.828125 4.175781 -5.703125 4.550781 -5.457031 C 4.921875 -5.203125 5.203125 -4.851563 5.390625 -4.394531 C 5.578125 -3.9375 5.671875 -3.4375 5.675781 -2.894531 C 5.671875 -2.308594 5.566406 -1.78125 5.359375 -1.316406 C 5.148438 -0.847656 4.84375 -0.488281 4.449219 -0.242188 C 4.046875 0.0078125 3.628906 0.128906 3.191406 0.128906 C 2.867188 0.128906 2.578125 0.0625 2.320313 -0.0742188 C 2.0625 -0.210938 1.851563 -0.382813 1.691406 -0.589844 L 1.691406 2.1875 Z M 1.601563 -2.820313 C 1.597656 -2.082031 1.746094 -1.539063 2.046875 -1.191406 C 2.339844 -0.835938 2.699219 -0.660156 3.125 -0.664063 C 3.550781 -0.660156 3.917969 -0.84375 4.226563 -1.210938 C 4.53125 -1.574219 4.6875 -2.136719 4.6875 -2.898438 C 4.6875 -3.625 4.535156 -4.167969 4.238281 -4.53125 C 3.9375 -4.890625 3.582031 -5.074219 3.167969 -5.074219 C 2.753906 -5.074219 2.390625 -4.878906 2.074219 -4.496094 C 1.757813 -4.109375 1.597656 -3.550781 1.601563 -2.820313 Z M 1.601563 -2.820313 \"/>\n",
       "</symbol>\n",
       "<symbol overflow=\"visible\" id=\"glyph1-1\">\n",
       "<path style=\"stroke:none;\" d=\"M 0.367188 -2.851563 C 0.363281 -3.90625 0.65625 -4.6875 1.246094 -5.199219 C 1.734375 -5.617188 2.332031 -5.828125 3.039063 -5.832031 C 3.820313 -5.828125 4.460938 -5.574219 4.960938 -5.0625 C 5.457031 -4.546875 5.707031 -3.835938 5.710938 -2.933594 C 5.707031 -2.195313 5.597656 -1.617188 5.378906 -1.199219 C 5.15625 -0.777344 4.832031 -0.449219 4.414063 -0.21875 C 3.992188 0.015625 3.535156 0.128906 3.039063 0.128906 C 2.238281 0.128906 1.59375 -0.125 1.105469 -0.636719 C 0.609375 -1.148438 0.363281 -1.886719 0.367188 -2.851563 Z M 1.359375 -2.851563 C 1.359375 -2.121094 1.515625 -1.574219 1.835938 -1.210938 C 2.152344 -0.84375 2.554688 -0.660156 3.039063 -0.664063 C 3.515625 -0.660156 3.914063 -0.84375 4.234375 -1.210938 C 4.550781 -1.574219 4.710938 -2.132813 4.714844 -2.882813 C 4.710938 -3.585938 4.550781 -4.117188 4.234375 -4.484375 C 3.910156 -4.84375 3.511719 -5.027344 3.039063 -5.03125 C 2.554688 -5.027344 2.152344 -4.847656 1.835938 -4.488281 C 1.515625 -4.128906 1.359375 -3.582031 1.359375 -2.851563 Z M 1.359375 -2.851563 \"/>\n",
       "</symbol>\n",
       "<symbol overflow=\"visible\" id=\"glyph1-2\">\n",
       "<path style=\"stroke:none;\" d=\"M 4.464844 0 L 4.464844 -0.835938 C 4.019531 -0.191406 3.414063 0.128906 2.652344 0.128906 C 2.3125 0.128906 2 0.0664063 1.710938 -0.0625 C 1.417969 -0.191406 1.199219 -0.355469 1.058594 -0.550781 C 0.914063 -0.746094 0.816406 -0.984375 0.761719 -1.265625 C 0.722656 -1.453125 0.703125 -1.753906 0.703125 -2.171875 L 0.703125 -5.703125 L 1.671875 -5.703125 L 1.671875 -2.539063 C 1.667969 -2.03125 1.6875 -1.691406 1.730469 -1.519531 C 1.785156 -1.261719 1.914063 -1.0625 2.113281 -0.921875 C 2.308594 -0.773438 2.554688 -0.703125 2.847656 -0.703125 C 3.136719 -0.703125 3.40625 -0.777344 3.660156 -0.925781 C 3.914063 -1.074219 4.09375 -1.273438 4.199219 -1.53125 C 4.304688 -1.785156 4.359375 -2.160156 4.359375 -2.648438 L 4.359375 -5.703125 L 5.328125 -5.703125 L 5.328125 0 Z M 4.464844 0 \"/>\n",
       "</symbol>\n",
       "<symbol overflow=\"visible\" id=\"glyph1-3\">\n",
       "<path style=\"stroke:none;\" d=\"M 0.703125 0 L 0.703125 -7.875 L 1.671875 -7.875 L 1.671875 0 Z M 0.703125 0 \"/>\n",
       "</symbol>\n",
       "<symbol overflow=\"visible\" id=\"glyph1-4\">\n",
       "<path style=\"stroke:none;\" d=\"M 4.445313 -0.703125 C 4.085938 -0.398438 3.742188 -0.183594 3.414063 -0.0585938 C 3.082031 0.0664063 2.726563 0.128906 2.347656 0.128906 C 1.71875 0.128906 1.238281 -0.0234375 0.902344 -0.328125 C 0.566406 -0.632813 0.398438 -1.023438 0.398438 -1.503906 C 0.398438 -1.78125 0.460938 -2.035156 0.585938 -2.269531 C 0.710938 -2.496094 0.875 -2.683594 1.085938 -2.824219 C 1.289063 -2.964844 1.523438 -3.070313 1.78125 -3.140625 C 1.96875 -3.191406 2.253906 -3.238281 2.640625 -3.289063 C 3.417969 -3.375 3.992188 -3.488281 4.367188 -3.621094 C 4.367188 -3.753906 4.371094 -3.835938 4.371094 -3.871094 C 4.371094 -4.265625 4.277344 -4.542969 4.097656 -4.703125 C 3.847656 -4.917969 3.480469 -5.027344 2.996094 -5.03125 C 2.539063 -5.027344 2.203125 -4.949219 1.988281 -4.792969 C 1.769531 -4.632813 1.609375 -4.351563 1.507813 -3.949219 L 0.5625 -4.078125 C 0.648438 -4.480469 0.789063 -4.804688 0.988281 -5.054688 C 1.183594 -5.300781 1.46875 -5.492188 1.84375 -5.628906 C 2.214844 -5.761719 2.644531 -5.828125 3.136719 -5.832031 C 3.621094 -5.828125 4.019531 -5.773438 4.324219 -5.660156 C 4.628906 -5.542969 4.851563 -5.398438 4.996094 -5.226563 C 5.136719 -5.054688 5.238281 -4.835938 5.296875 -4.570313 C 5.328125 -4.40625 5.34375 -4.109375 5.34375 -3.679688 L 5.34375 -2.390625 C 5.34375 -1.492188 5.363281 -0.921875 5.40625 -0.683594 C 5.445313 -0.445313 5.527344 -0.21875 5.648438 0 L 4.640625 0 C 4.539063 -0.199219 4.472656 -0.433594 4.445313 -0.703125 Z M 4.367188 -2.863281 C 4.011719 -2.71875 3.488281 -2.597656 2.789063 -2.496094 C 2.390625 -2.4375 2.105469 -2.371094 1.941406 -2.300781 C 1.773438 -2.226563 1.648438 -2.121094 1.5625 -1.988281 C 1.472656 -1.847656 1.429688 -1.695313 1.429688 -1.53125 C 1.429688 -1.269531 1.527344 -1.054688 1.722656 -0.886719 C 1.917969 -0.710938 2.203125 -0.625 2.578125 -0.628906 C 2.949219 -0.625 3.277344 -0.707031 3.570313 -0.871094 C 3.859375 -1.03125 4.074219 -1.253906 4.210938 -1.542969 C 4.3125 -1.753906 4.363281 -2.078125 4.367188 -2.507813 Z M 4.367188 -2.863281 \"/>\n",
       "</symbol>\n",
       "<symbol overflow=\"visible\" id=\"glyph1-5\">\n",
       "<path style=\"stroke:none;\" d=\"M 2.835938 -0.863281 L 2.976563 -0.0117188 C 2.703125 0.0429688 2.457031 0.0703125 2.246094 0.0742188 C 1.890625 0.0703125 1.621094 0.0195313 1.429688 -0.0898438 C 1.234375 -0.199219 1.097656 -0.347656 1.019531 -0.527344 C 0.941406 -0.707031 0.902344 -1.085938 0.902344 -1.671875 L 0.902344 -4.953125 L 0.195313 -4.953125 L 0.195313 -5.703125 L 0.902344 -5.703125 L 0.902344 -7.117188 L 1.863281 -7.695313 L 1.863281 -5.703125 L 2.835938 -5.703125 L 2.835938 -4.953125 L 1.863281 -4.953125 L 1.863281 -1.617188 C 1.863281 -1.339844 1.878906 -1.160156 1.914063 -1.085938 C 1.945313 -1.003906 2 -0.941406 2.078125 -0.898438 C 2.152344 -0.847656 2.261719 -0.824219 2.410156 -0.828125 C 2.515625 -0.824219 2.660156 -0.835938 2.835938 -0.863281 Z M 2.835938 -0.863281 \"/>\n",
       "</symbol>\n",
       "<symbol overflow=\"visible\" id=\"glyph1-6\">\n",
       "<path style=\"stroke:none;\" d=\"M 0.730469 -6.761719 L 0.730469 -7.875 L 1.695313 -7.875 L 1.695313 -6.761719 Z M 0.730469 0 L 0.730469 -5.703125 L 1.695313 -5.703125 L 1.695313 0 Z M 0.730469 0 \"/>\n",
       "</symbol>\n",
       "<symbol overflow=\"visible\" id=\"glyph1-7\">\n",
       "<path style=\"stroke:none;\" d=\"M 0.726563 0 L 0.726563 -5.703125 L 1.59375 -5.703125 L 1.59375 -4.894531 C 2.011719 -5.515625 2.617188 -5.828125 3.410156 -5.832031 C 3.753906 -5.828125 4.066406 -5.765625 4.355469 -5.644531 C 4.640625 -5.519531 4.859375 -5.359375 5.003906 -5.160156 C 5.144531 -4.957031 5.242188 -4.71875 5.304688 -4.445313 C 5.335938 -4.265625 5.355469 -3.953125 5.359375 -3.507813 L 5.359375 0 L 4.394531 0 L 4.394531 -3.46875 C 4.394531 -3.863281 4.355469 -4.15625 4.28125 -4.351563 C 4.203125 -4.542969 4.070313 -4.699219 3.878906 -4.820313 C 3.6875 -4.933594 3.460938 -4.992188 3.207031 -4.996094 C 2.792969 -4.992188 2.4375 -4.859375 2.140625 -4.601563 C 1.835938 -4.335938 1.6875 -3.84375 1.691406 -3.117188 L 1.691406 0 Z M 0.726563 0 \"/>\n",
       "</symbol>\n",
       "<symbol overflow=\"visible\" id=\"glyph1-8\">\n",
       "<path style=\"stroke:none;\" d=\"M 0.339844 -1.703125 L 1.292969 -1.851563 C 1.34375 -1.46875 1.492188 -1.171875 1.742188 -0.96875 C 1.984375 -0.761719 2.328125 -0.660156 2.773438 -0.664063 C 3.210938 -0.660156 3.539063 -0.75 3.757813 -0.933594 C 3.96875 -1.113281 4.078125 -1.328125 4.082031 -1.574219 C 4.078125 -1.789063 3.984375 -1.960938 3.796875 -2.089844 C 3.664063 -2.171875 3.332031 -2.28125 2.808594 -2.417969 C 2.097656 -2.59375 1.605469 -2.75 1.332031 -2.882813 C 1.054688 -3.011719 0.847656 -3.191406 0.710938 -3.421875 C 0.566406 -3.652344 0.496094 -3.90625 0.5 -4.1875 C 0.496094 -4.441406 0.554688 -4.675781 0.671875 -4.894531 C 0.785156 -5.105469 0.945313 -5.289063 1.148438 -5.4375 C 1.296875 -5.546875 1.5 -5.636719 1.761719 -5.714844 C 2.019531 -5.789063 2.300781 -5.828125 2.601563 -5.832031 C 3.046875 -5.828125 3.4375 -5.765625 3.777344 -5.636719 C 4.113281 -5.507813 4.363281 -5.332031 4.527344 -5.113281 C 4.6875 -4.890625 4.796875 -4.597656 4.859375 -4.234375 L 3.914063 -4.101563 C 3.871094 -4.394531 3.746094 -4.621094 3.542969 -4.789063 C 3.335938 -4.953125 3.042969 -5.039063 2.667969 -5.039063 C 2.222656 -5.039063 1.90625 -4.964844 1.71875 -4.816406 C 1.523438 -4.667969 1.429688 -4.496094 1.433594 -4.300781 C 1.429688 -4.175781 1.46875 -4.0625 1.550781 -3.964844 C 1.628906 -3.859375 1.753906 -3.773438 1.921875 -3.707031 C 2.015625 -3.667969 2.300781 -3.585938 2.777344 -3.460938 C 3.460938 -3.273438 3.9375 -3.121094 4.207031 -3.007813 C 4.476563 -2.890625 4.6875 -2.722656 4.84375 -2.503906 C 4.996094 -2.277344 5.074219 -2.003906 5.074219 -1.675781 C 5.074219 -1.351563 4.980469 -1.046875 4.792969 -0.765625 C 4.605469 -0.480469 4.332031 -0.261719 3.980469 -0.105469 C 3.621094 0.0507813 3.222656 0.128906 2.777344 0.128906 C 2.035156 0.128906 1.46875 -0.0234375 1.082031 -0.332031 C 0.691406 -0.640625 0.445313 -1.097656 0.339844 -1.703125 Z M 0.339844 -1.703125 \"/>\n",
       "</symbol>\n",
       "<symbol overflow=\"visible\" id=\"glyph1-9\">\n",
       "<path style=\"stroke:none;\" d=\"M 4.628906 -1.835938 L 5.628906 -1.714844 C 5.46875 -1.125 5.175781 -0.671875 4.75 -0.351563 C 4.324219 -0.03125 3.78125 0.128906 3.121094 0.128906 C 2.28125 0.128906 1.617188 -0.125 1.132813 -0.640625 C 0.640625 -1.152344 0.398438 -1.875 0.402344 -2.804688 C 0.398438 -3.761719 0.644531 -4.503906 1.144531 -5.035156 C 1.636719 -5.5625 2.277344 -5.828125 3.066406 -5.832031 C 3.824219 -5.828125 4.449219 -5.570313 4.933594 -5.050781 C 5.417969 -4.53125 5.660156 -3.800781 5.660156 -2.863281 C 5.660156 -2.804688 5.65625 -2.71875 5.65625 -2.605469 L 1.402344 -2.605469 C 1.433594 -1.976563 1.613281 -1.496094 1.933594 -1.164063 C 2.25 -0.828125 2.644531 -0.660156 3.125 -0.664063 C 3.476563 -0.660156 3.78125 -0.753906 4.03125 -0.945313 C 4.28125 -1.128906 4.480469 -1.425781 4.628906 -1.835938 Z M 1.457031 -3.398438 L 4.640625 -3.398438 C 4.597656 -3.878906 4.472656 -4.238281 4.273438 -4.480469 C 3.960938 -4.851563 3.5625 -5.039063 3.078125 -5.039063 C 2.628906 -5.039063 2.257813 -4.890625 1.957031 -4.59375 C 1.652344 -4.296875 1.484375 -3.898438 1.457031 -3.398438 Z M 1.457031 -3.398438 \"/>\n",
       "</symbol>\n",
       "<symbol overflow=\"visible\" id=\"glyph1-10\">\n",
       "<path style=\"stroke:none;\" d=\"M -0.167969 2.1875 L -0.167969 1.488281 L 6.242188 1.488281 L 6.242188 2.1875 Z M -0.167969 2.1875 \"/>\n",
       "</symbol>\n",
       "<symbol overflow=\"visible\" id=\"glyph1-11\">\n",
       "<path style=\"stroke:none;\" d=\"M 4.425781 0 L 4.425781 -0.71875 C 4.058594 -0.152344 3.527344 0.128906 2.832031 0.128906 C 2.371094 0.128906 1.953125 0.00390625 1.574219 -0.246094 C 1.191406 -0.496094 0.894531 -0.84375 0.6875 -1.296875 C 0.476563 -1.742188 0.375 -2.261719 0.375 -2.847656 C 0.375 -3.414063 0.46875 -3.929688 0.660156 -4.394531 C 0.847656 -4.859375 1.132813 -5.214844 1.515625 -5.460938 C 1.894531 -5.707031 2.320313 -5.828125 2.789063 -5.832031 C 3.132813 -5.828125 3.4375 -5.757813 3.707031 -5.613281 C 3.972656 -5.46875 4.191406 -5.277344 4.359375 -5.046875 L 4.359375 -7.875 L 5.324219 -7.875 L 5.324219 0 Z M 1.371094 -2.847656 C 1.371094 -2.113281 1.523438 -1.566406 1.832031 -1.207031 C 2.136719 -0.84375 2.5 -0.660156 2.921875 -0.664063 C 3.339844 -0.660156 3.699219 -0.835938 3.996094 -1.183594 C 4.292969 -1.527344 4.441406 -2.054688 4.441406 -2.765625 C 4.441406 -3.546875 4.289063 -4.117188 3.988281 -4.484375 C 3.6875 -4.84375 3.316406 -5.027344 2.878906 -5.03125 C 2.445313 -5.027344 2.085938 -4.851563 1.800781 -4.503906 C 1.511719 -4.152344 1.371094 -3.601563 1.371094 -2.847656 Z M 1.371094 -2.847656 \"/>\n",
       "</symbol>\n",
       "<symbol overflow=\"visible\" id=\"glyph1-12\">\n",
       "<path style=\"stroke:none;\" d=\"M 0.957031 0 L 0.957031 -4.953125 L 0.101563 -4.953125 L 0.101563 -5.703125 L 0.957031 -5.703125 L 0.957031 -6.3125 C 0.953125 -6.691406 0.988281 -6.976563 1.058594 -7.164063 C 1.148438 -7.410156 1.3125 -7.613281 1.550781 -7.773438 C 1.78125 -7.925781 2.109375 -8.003906 2.535156 -8.007813 C 2.804688 -8.003906 3.105469 -7.972656 3.4375 -7.910156 L 3.292969 -7.070313 C 3.089844 -7.101563 2.898438 -7.117188 2.722656 -7.121094 C 2.425781 -7.117188 2.21875 -7.054688 2.097656 -6.933594 C 1.976563 -6.804688 1.914063 -6.570313 1.917969 -6.230469 L 1.917969 -5.703125 L 3.03125 -5.703125 L 3.03125 -4.953125 L 1.917969 -4.953125 L 1.917969 0 Z M 0.957031 0 \"/>\n",
       "</symbol>\n",
       "<symbol overflow=\"visible\" id=\"glyph1-13\">\n",
       "<path style=\"stroke:none;\" d=\"M 2.308594 0 L 0.140625 -5.703125 L 1.160156 -5.703125 L 2.382813 -2.289063 C 2.511719 -1.917969 2.632813 -1.535156 2.75 -1.140625 C 2.832031 -1.4375 2.953125 -1.796875 3.109375 -2.222656 L 4.378906 -5.703125 L 5.371094 -5.703125 L 3.210938 0 Z M 2.308594 0 \"/>\n",
       "</symbol>\n",
       "<symbol overflow=\"visible\" id=\"glyph1-14\">\n",
       "<path style=\"stroke:none;\" d=\"M 0.714844 0 L 0.714844 -5.703125 L 1.585938 -5.703125 L 1.585938 -4.839844 C 1.804688 -5.242188 2.007813 -5.507813 2.199219 -5.636719 C 2.382813 -5.765625 2.589844 -5.828125 2.820313 -5.832031 C 3.140625 -5.828125 3.472656 -5.726563 3.8125 -5.523438 L 3.480469 -4.625 C 3.242188 -4.761719 3.003906 -4.832031 2.773438 -4.835938 C 2.554688 -4.832031 2.363281 -4.769531 2.199219 -4.644531 C 2.027344 -4.515625 1.910156 -4.339844 1.84375 -4.113281 C 1.730469 -3.769531 1.675781 -3.390625 1.679688 -2.984375 L 1.679688 0 Z M 0.714844 0 \"/>\n",
       "</symbol>\n",
       "<symbol overflow=\"visible\" id=\"glyph2-0\">\n",
       "<path style=\"stroke:none;\" d=\"M -0.863281 -2.835938 L -0.0117188 -2.976563 C 0.0429688 -2.703125 0.0703125 -2.457031 0.0742188 -2.246094 C 0.0703125 -1.890625 0.0195313 -1.621094 -0.0898438 -1.429688 C -0.199219 -1.234375 -0.347656 -1.097656 -0.527344 -1.019531 C -0.707031 -0.941406 -1.085938 -0.902344 -1.671875 -0.902344 L -4.953125 -0.902344 L -4.953125 -0.195313 L -5.703125 -0.195313 L -5.703125 -0.902344 L -7.117188 -0.902344 L -7.695313 -1.863281 L -5.703125 -1.863281 L -5.703125 -2.835938 L -4.953125 -2.835938 L -4.953125 -1.863281 L -1.617188 -1.863281 C -1.339844 -1.863281 -1.160156 -1.878906 -1.082031 -1.914063 C -1 -1.945313 -0.9375 -2 -0.894531 -2.078125 C -0.847656 -2.152344 -0.824219 -2.261719 -0.828125 -2.410156 C -0.824219 -2.515625 -0.835938 -2.660156 -0.863281 -2.835938 Z M -0.863281 -2.835938 \"/>\n",
       "</symbol>\n",
       "<symbol overflow=\"visible\" id=\"glyph2-1\">\n",
       "<path style=\"stroke:none;\" d=\"M -0.703125 -4.445313 C -0.398438 -4.085938 -0.183594 -3.742188 -0.0585938 -3.414063 C 0.0664063 -3.082031 0.128906 -2.726563 0.128906 -2.347656 C 0.128906 -1.71875 -0.0234375 -1.238281 -0.328125 -0.902344 C -0.632813 -0.566406 -1.023438 -0.398438 -1.503906 -0.398438 C -1.78125 -0.398438 -2.035156 -0.460938 -2.269531 -0.585938 C -2.496094 -0.710938 -2.683594 -0.875 -2.824219 -1.085938 C -2.964844 -1.289063 -3.070313 -1.523438 -3.140625 -1.785156 C -3.191406 -1.96875 -3.238281 -2.253906 -3.289063 -2.640625 C -3.375 -3.417969 -3.488281 -3.992188 -3.621094 -4.367188 C -3.753906 -4.367188 -3.835938 -4.371094 -3.871094 -4.371094 C -4.265625 -4.371094 -4.542969 -4.277344 -4.703125 -4.097656 C -4.917969 -3.847656 -5.027344 -3.480469 -5.03125 -2.996094 C -5.027344 -2.539063 -4.949219 -2.203125 -4.792969 -1.988281 C -4.632813 -1.769531 -4.351563 -1.609375 -3.949219 -1.507813 L -4.078125 -0.5625 C -4.480469 -0.648438 -4.804688 -0.789063 -5.054688 -0.988281 C -5.300781 -1.183594 -5.492188 -1.46875 -5.628906 -1.84375 C -5.761719 -2.214844 -5.828125 -2.644531 -5.832031 -3.136719 C -5.828125 -3.621094 -5.773438 -4.019531 -5.660156 -4.324219 C -5.542969 -4.628906 -5.398438 -4.851563 -5.226563 -4.996094 C -5.054688 -5.136719 -4.835938 -5.238281 -4.570313 -5.296875 C -4.40625 -5.328125 -4.109375 -5.34375 -3.679688 -5.34375 L -2.390625 -5.34375 C -1.492188 -5.34375 -0.921875 -5.363281 -0.683594 -5.40625 C -0.445313 -5.445313 -0.21875 -5.527344 0 -5.648438 L 0 -4.640625 C -0.199219 -4.539063 -0.433594 -4.472656 -0.703125 -4.445313 Z M -2.863281 -4.367188 C -2.71875 -4.011719 -2.597656 -3.488281 -2.496094 -2.789063 C -2.4375 -2.390625 -2.371094 -2.109375 -2.300781 -1.945313 C -2.226563 -1.78125 -2.121094 -1.652344 -1.988281 -1.5625 C -1.847656 -1.472656 -1.695313 -1.429688 -1.53125 -1.429688 C -1.269531 -1.429688 -1.054688 -1.527344 -0.886719 -1.722656 C -0.710938 -1.917969 -0.625 -2.203125 -0.628906 -2.578125 C -0.625 -2.949219 -0.707031 -3.277344 -0.871094 -3.570313 C -1.03125 -3.859375 -1.253906 -4.074219 -1.542969 -4.210938 C -1.753906 -4.3125 -2.078125 -4.363281 -2.507813 -4.367188 Z M -2.863281 -4.367188 \"/>\n",
       "</symbol>\n",
       "<symbol overflow=\"visible\" id=\"glyph2-2\">\n",
       "<path style=\"stroke:none;\" d=\"M 0 -0.714844 L -5.703125 -0.714844 L -5.703125 -1.585938 L -4.839844 -1.585938 C -5.242188 -1.804688 -5.507813 -2.007813 -5.636719 -2.199219 C -5.765625 -2.382813 -5.828125 -2.589844 -5.832031 -2.820313 C -5.828125 -3.140625 -5.726563 -3.472656 -5.523438 -3.8125 L -4.625 -3.480469 C -4.761719 -3.242188 -4.832031 -3.003906 -4.835938 -2.773438 C -4.832031 -2.554688 -4.769531 -2.363281 -4.644531 -2.199219 C -4.515625 -2.027344 -4.339844 -1.910156 -4.113281 -1.84375 C -3.769531 -1.730469 -3.390625 -1.675781 -2.984375 -1.679688 L 0 -1.679688 Z M 0 -0.714844 \"/>\n",
       "</symbol>\n",
       "<symbol overflow=\"visible\" id=\"glyph2-3\">\n",
       "<path style=\"stroke:none;\" d=\"M 0.472656 -0.546875 L 0.613281 -1.488281 C 0.898438 -1.527344 1.109375 -1.636719 1.246094 -1.816406 C 1.421875 -2.054688 1.511719 -2.378906 1.515625 -2.796875 C 1.511719 -3.242188 1.421875 -3.589844 1.246094 -3.832031 C 1.0625 -4.074219 0.8125 -4.238281 0.496094 -4.328125 C 0.296875 -4.378906 -0.113281 -4.402344 -0.746094 -4.398438 C -0.246094 -3.972656 0 -3.445313 0 -2.820313 C 0 -2.03125 -0.28125 -1.425781 -0.847656 -1 C -1.410156 -0.566406 -2.089844 -0.351563 -2.882813 -0.355469 C -3.425781 -0.351563 -3.925781 -0.449219 -4.390625 -0.648438 C -4.847656 -0.84375 -5.203125 -1.128906 -5.457031 -1.503906 C -5.703125 -1.875 -5.828125 -2.316406 -5.832031 -2.824219 C -5.828125 -3.496094 -5.558594 -4.050781 -5.015625 -4.492188 L -5.703125 -4.492188 L -5.703125 -5.382813 L -0.773438 -5.382813 C 0.113281 -5.378906 0.742188 -5.289063 1.113281 -5.109375 C 1.484375 -4.929688 1.777344 -4.640625 1.992188 -4.25 C 2.207031 -3.855469 2.3125 -3.375 2.316406 -2.804688 C 2.3125 -2.121094 2.160156 -1.570313 1.855469 -1.152344 C 1.546875 -0.734375 1.085938 -0.53125 0.472656 -0.546875 Z M -2.953125 -1.347656 C -2.203125 -1.347656 -1.65625 -1.496094 -1.316406 -1.792969 C -0.96875 -2.089844 -0.796875 -2.460938 -0.800781 -2.910156 C -0.796875 -3.351563 -0.96875 -3.722656 -1.3125 -4.027344 C -1.652344 -4.324219 -2.1875 -4.476563 -2.921875 -4.480469 C -3.617188 -4.476563 -4.144531 -4.320313 -4.5 -4.015625 C -4.851563 -3.703125 -5.027344 -3.332031 -5.03125 -2.894531 C -5.027344 -2.464844 -4.851563 -2.097656 -4.507813 -1.796875 C -4.15625 -1.496094 -3.640625 -1.347656 -2.953125 -1.347656 Z M -2.953125 -1.347656 \"/>\n",
       "</symbol>\n",
       "<symbol overflow=\"visible\" id=\"glyph2-4\">\n",
       "<path style=\"stroke:none;\" d=\"M -1.835938 -4.628906 L -1.714844 -5.628906 C -1.125 -5.46875 -0.671875 -5.175781 -0.351563 -4.75 C -0.03125 -4.324219 0.128906 -3.78125 0.128906 -3.121094 C 0.128906 -2.28125 -0.125 -1.617188 -0.640625 -1.132813 C -1.152344 -0.640625 -1.875 -0.398438 -2.804688 -0.402344 C -3.761719 -0.398438 -4.503906 -0.644531 -5.035156 -1.144531 C -5.5625 -1.636719 -5.828125 -2.277344 -5.832031 -3.066406 C -5.828125 -3.824219 -5.570313 -4.449219 -5.050781 -4.933594 C -4.53125 -5.417969 -3.800781 -5.660156 -2.863281 -5.660156 C -2.804688 -5.660156 -2.71875 -5.65625 -2.605469 -5.65625 L -2.605469 -1.402344 C -1.976563 -1.433594 -1.496094 -1.613281 -1.164063 -1.933594 C -0.828125 -2.25 -0.660156 -2.644531 -0.664063 -3.125 C -0.660156 -3.476563 -0.753906 -3.78125 -0.941406 -4.03125 C -1.125 -4.28125 -1.421875 -4.480469 -1.835938 -4.628906 Z M -3.398438 -1.457031 L -3.398438 -4.640625 C -3.878906 -4.597656 -4.238281 -4.472656 -4.480469 -4.273438 C -4.851563 -3.960938 -5.039063 -3.5625 -5.039063 -3.078125 C -5.039063 -2.628906 -4.890625 -2.257813 -4.59375 -1.957031 C -4.296875 -1.652344 -3.898438 -1.484375 -3.398438 -1.457031 Z M -3.398438 -1.457031 \"/>\n",
       "</symbol>\n",
       "<symbol overflow=\"visible\" id=\"glyph2-5\">\n",
       "<path style=\"stroke:none;\" d=\"M 2.1875 0.167969 L 1.488281 0.167969 L 1.488281 -6.242188 L 2.1875 -6.242188 Z M 2.1875 0.167969 \"/>\n",
       "</symbol>\n",
       "<symbol overflow=\"visible\" id=\"glyph2-6\">\n",
       "<path style=\"stroke:none;\" d=\"M 2.1875 -0.726563 L -5.703125 -0.726563 L -5.703125 -1.605469 L -4.960938 -1.605469 C -5.25 -1.8125 -5.46875 -2.046875 -5.613281 -2.308594 C -5.757813 -2.570313 -5.828125 -2.886719 -5.832031 -3.261719 C -5.828125 -3.746094 -5.703125 -4.175781 -5.457031 -4.550781 C -5.203125 -4.921875 -4.851563 -5.203125 -4.394531 -5.390625 C -3.9375 -5.578125 -3.4375 -5.671875 -2.894531 -5.675781 C -2.308594 -5.671875 -1.78125 -5.566406 -1.316406 -5.359375 C -0.847656 -5.148438 -0.488281 -4.84375 -0.242188 -4.449219 C 0.0078125 -4.046875 0.128906 -3.628906 0.128906 -3.191406 C 0.128906 -2.867188 0.0625 -2.578125 -0.0742188 -2.320313 C -0.207031 -2.0625 -0.378906 -1.851563 -0.589844 -1.691406 L 2.1875 -1.691406 Z M -2.820313 -1.601563 C -2.082031 -1.597656 -1.539063 -1.746094 -1.191406 -2.046875 C -0.835938 -2.339844 -0.660156 -2.699219 -0.664063 -3.125 C -0.660156 -3.550781 -0.84375 -3.917969 -1.210938 -4.226563 C -1.574219 -4.53125 -2.136719 -4.6875 -2.898438 -4.6875 C -3.625 -4.6875 -4.167969 -4.535156 -4.53125 -4.238281 C -4.890625 -3.9375 -5.074219 -3.582031 -5.074219 -3.167969 C -5.074219 -2.753906 -4.878906 -2.390625 -4.496094 -2.074219 C -4.109375 -1.757813 -3.550781 -1.597656 -2.820313 -1.601563 Z M -2.820313 -1.601563 \"/>\n",
       "</symbol>\n",
       "<symbol overflow=\"visible\" id=\"glyph2-7\">\n",
       "<path style=\"stroke:none;\" d=\"M -2.851563 -0.367188 C -3.90625 -0.363281 -4.6875 -0.65625 -5.199219 -1.246094 C -5.617188 -1.734375 -5.828125 -2.332031 -5.832031 -3.039063 C -5.828125 -3.820313 -5.574219 -4.460938 -5.0625 -4.960938 C -4.546875 -5.457031 -3.835938 -5.707031 -2.933594 -5.710938 C -2.195313 -5.707031 -1.617188 -5.597656 -1.199219 -5.378906 C -0.777344 -5.15625 -0.449219 -4.832031 -0.21875 -4.414063 C 0.015625 -3.992188 0.128906 -3.535156 0.128906 -3.039063 C 0.128906 -2.238281 -0.125 -1.59375 -0.636719 -1.105469 C -1.148438 -0.609375 -1.886719 -0.363281 -2.851563 -0.367188 Z M -2.851563 -1.359375 C -2.121094 -1.359375 -1.574219 -1.515625 -1.210938 -1.835938 C -0.84375 -2.152344 -0.660156 -2.554688 -0.664063 -3.039063 C -0.660156 -3.515625 -0.84375 -3.914063 -1.210938 -4.234375 C -1.574219 -4.550781 -2.132813 -4.710938 -2.882813 -4.714844 C -3.585938 -4.710938 -4.117188 -4.550781 -4.484375 -4.234375 C -4.84375 -3.910156 -5.027344 -3.511719 -5.03125 -3.039063 C -5.027344 -2.554688 -4.847656 -2.152344 -4.488281 -1.835938 C -4.128906 -1.515625 -3.582031 -1.359375 -2.851563 -1.359375 Z M -2.851563 -1.359375 \"/>\n",
       "</symbol>\n",
       "<symbol overflow=\"visible\" id=\"glyph2-8\">\n",
       "<path style=\"stroke:none;\" d=\"M 0 -4.464844 L -0.835938 -4.464844 C -0.191406 -4.019531 0.128906 -3.414063 0.128906 -2.652344 C 0.128906 -2.3125 0.0664063 -2 -0.0625 -1.710938 C -0.191406 -1.417969 -0.355469 -1.199219 -0.550781 -1.058594 C -0.746094 -0.914063 -0.984375 -0.816406 -1.265625 -0.761719 C -1.453125 -0.722656 -1.753906 -0.703125 -2.171875 -0.703125 L -5.703125 -0.703125 L -5.703125 -1.671875 L -2.539063 -1.671875 C -2.03125 -1.667969 -1.691406 -1.6875 -1.519531 -1.730469 C -1.261719 -1.785156 -1.0625 -1.914063 -0.917969 -2.113281 C -0.773438 -2.308594 -0.703125 -2.554688 -0.703125 -2.847656 C -0.703125 -3.136719 -0.777344 -3.40625 -0.925781 -3.660156 C -1.074219 -3.914063 -1.273438 -4.09375 -1.53125 -4.199219 C -1.785156 -4.304688 -2.160156 -4.359375 -2.648438 -4.359375 L -5.703125 -4.359375 L -5.703125 -5.328125 L 0 -5.328125 Z M 0 -4.464844 \"/>\n",
       "</symbol>\n",
       "<symbol overflow=\"visible\" id=\"glyph2-9\">\n",
       "<path style=\"stroke:none;\" d=\"M 0 -0.703125 L -7.875 -0.703125 L -7.875 -1.671875 L 0 -1.671875 Z M 0 -0.703125 \"/>\n",
       "</symbol>\n",
       "<symbol overflow=\"visible\" id=\"glyph2-10\">\n",
       "<path style=\"stroke:none;\" d=\"M -6.761719 -0.730469 L -7.875 -0.730469 L -7.875 -1.699219 L -6.761719 -1.699219 Z M 0 -0.730469 L -5.703125 -0.730469 L -5.703125 -1.699219 L 0 -1.695313 Z M 0 -0.730469 \"/>\n",
       "</symbol>\n",
       "<symbol overflow=\"visible\" id=\"glyph2-11\">\n",
       "<path style=\"stroke:none;\" d=\"M 0 -0.726563 L -5.703125 -0.726563 L -5.703125 -1.59375 L -4.894531 -1.59375 C -5.515625 -2.011719 -5.828125 -2.617188 -5.832031 -3.410156 C -5.828125 -3.753906 -5.765625 -4.066406 -5.644531 -4.355469 C -5.519531 -4.640625 -5.359375 -4.859375 -5.160156 -5.003906 C -4.957031 -5.144531 -4.71875 -5.242188 -4.445313 -5.304688 C -4.265625 -5.335938 -3.953125 -5.355469 -3.507813 -5.359375 L 0 -5.359375 L 0 -4.394531 L -3.46875 -4.394531 C -3.863281 -4.394531 -4.15625 -4.355469 -4.351563 -4.28125 C -4.542969 -4.203125 -4.699219 -4.070313 -4.820313 -3.878906 C -4.933594 -3.6875 -4.992188 -3.460938 -4.996094 -3.207031 C -4.992188 -2.792969 -4.859375 -2.4375 -4.601563 -2.140625 C -4.335938 -1.835938 -3.84375 -1.6875 -3.117188 -1.691406 L 0 -1.691406 Z M 0 -0.726563 \"/>\n",
       "</symbol>\n",
       "<symbol overflow=\"visible\" id=\"glyph2-12\">\n",
       "<path style=\"stroke:none;\" d=\"M -1.703125 -0.339844 L -1.851563 -1.292969 C -1.46875 -1.34375 -1.171875 -1.492188 -0.96875 -1.742188 C -0.761719 -1.984375 -0.660156 -2.328125 -0.664063 -2.773438 C -0.660156 -3.210938 -0.75 -3.539063 -0.933594 -3.757813 C -1.113281 -3.96875 -1.328125 -4.078125 -1.574219 -4.082031 C -1.789063 -4.078125 -1.960938 -3.984375 -2.089844 -3.796875 C -2.171875 -3.664063 -2.28125 -3.332031 -2.417969 -2.808594 C -2.59375 -2.097656 -2.75 -1.609375 -2.882813 -1.335938 C -3.011719 -1.0625 -3.191406 -0.851563 -3.421875 -0.710938 C -3.652344 -0.566406 -3.90625 -0.496094 -4.1875 -0.5 C -4.441406 -0.496094 -4.675781 -0.554688 -4.894531 -0.671875 C -5.105469 -0.785156 -5.289063 -0.945313 -5.4375 -1.148438 C -5.546875 -1.296875 -5.636719 -1.5 -5.714844 -1.761719 C -5.789063 -2.019531 -5.828125 -2.300781 -5.832031 -2.601563 C -5.828125 -3.046875 -5.765625 -3.4375 -5.636719 -3.777344 C -5.507813 -4.113281 -5.332031 -4.363281 -5.113281 -4.527344 C -4.890625 -4.6875 -4.597656 -4.796875 -4.234375 -4.859375 L -4.101563 -3.914063 C -4.394531 -3.871094 -4.621094 -3.746094 -4.789063 -3.542969 C -4.953125 -3.335938 -5.039063 -3.042969 -5.039063 -2.667969 C -5.039063 -2.222656 -4.964844 -1.90625 -4.816406 -1.71875 C -4.667969 -1.523438 -4.496094 -1.429688 -4.300781 -1.433594 C -4.175781 -1.429688 -4.0625 -1.46875 -3.964844 -1.550781 C -3.859375 -1.628906 -3.773438 -1.753906 -3.707031 -1.921875 C -3.667969 -2.015625 -3.585938 -2.300781 -3.460938 -2.777344 C -3.273438 -3.460938 -3.121094 -3.9375 -3.007813 -4.207031 C -2.890625 -4.476563 -2.722656 -4.6875 -2.5 -4.84375 C -2.277344 -4.996094 -2.003906 -5.074219 -1.675781 -5.074219 C -1.351563 -5.074219 -1.046875 -4.980469 -0.765625 -4.792969 C -0.480469 -4.605469 -0.261719 -4.332031 -0.105469 -3.980469 C 0.0507813 -3.621094 0.128906 -3.222656 0.128906 -2.777344 C 0.128906 -2.035156 -0.0234375 -1.46875 -0.332031 -1.082031 C -0.640625 -0.691406 -1.097656 -0.445313 -1.703125 -0.339844 Z M -1.703125 -0.339844 \"/>\n",
       "</symbol>\n",
       "<symbol overflow=\"visible\" id=\"glyph2-13\">\n",
       "<path style=\"stroke:none;\" d=\"M 0 -2.308594 L -5.703125 -0.140625 L -5.703125 -1.160156 L -2.289063 -2.382813 C -1.917969 -2.511719 -1.535156 -2.632813 -1.136719 -2.75 C -1.4375 -2.832031 -1.796875 -2.953125 -2.222656 -3.109375 L -5.703125 -4.378906 L -5.703125 -5.371094 L 0 -3.210938 Z M 0 -2.308594 \"/>\n",
       "</symbol>\n",
       "</g>\n",
       "<clipPath id=\"clip1\">\n",
       "  <path d=\"M 0 0 L 253 0 L 253 505 L 0 505 Z M 0 0 \"/>\n",
       "</clipPath>\n",
       "<clipPath id=\"clip2\">\n",
       "  <path d=\"M 41.988281 5.480469 L 247.519531 5.480469 L 247.519531 431.050781 L 41.988281 431.050781 Z M 41.988281 5.480469 \"/>\n",
       "</clipPath>\n",
       "<clipPath id=\"clip3\">\n",
       "  <path d=\"M 252 0 L 505 0 L 505 505 L 252 505 Z M 252 0 \"/>\n",
       "</clipPath>\n",
       "<clipPath id=\"clip4\">\n",
       "  <path d=\"M 293.988281 5.480469 L 499.519531 5.480469 L 499.519531 431.050781 L 293.988281 431.050781 Z M 293.988281 5.480469 \"/>\n",
       "</clipPath>\n",
       "</defs>\n",
       "<g id=\"surface31\">\n",
       "<rect x=\"0\" y=\"0\" width=\"504\" height=\"504\" style=\"fill:rgb(100%,100%,100%);fill-opacity:1;stroke:none;\"/>\n",
       "<g clip-path=\"url(#clip1)\" clip-rule=\"nonzero\">\n",
       "<path style=\"fill-rule:nonzero;fill:rgb(100%,100%,100%);fill-opacity:1;stroke-width:1.066978;stroke-linecap:round;stroke-linejoin:round;stroke:rgb(100%,100%,100%);stroke-opacity:1;stroke-miterlimit:10;\" d=\"M 0 504 L 252 504 L 252 0 L 0 0 Z M 0 504 \"/>\n",
       "</g>\n",
       "<g clip-path=\"url(#clip2)\" clip-rule=\"nonzero\">\n",
       "<path style=\" stroke:none;fill-rule:nonzero;fill:rgb(92.156863%,92.156863%,92.156863%);fill-opacity:1;\" d=\"M 41.988281 430.046875 L 246.519531 430.046875 L 246.519531 5.476563 L 41.988281 5.476563 Z M 41.988281 430.046875 \"/>\n",
       "<path style=\"fill:none;stroke-width:0.533489;stroke-linecap:butt;stroke-linejoin:round;stroke:rgb(100%,100%,100%);stroke-opacity:1;stroke-miterlimit:10;\" d=\"M 41.988281 366.726563 L 246.519531 366.726563 \"/>\n",
       "<path style=\"fill:none;stroke-width:0.533489;stroke-linecap:butt;stroke-linejoin:round;stroke:rgb(100%,100%,100%);stroke-opacity:1;stroke-miterlimit:10;\" d=\"M 41.988281 269.027344 L 246.519531 269.027344 \"/>\n",
       "<path style=\"fill:none;stroke-width:0.533489;stroke-linecap:butt;stroke-linejoin:round;stroke:rgb(100%,100%,100%);stroke-opacity:1;stroke-miterlimit:10;\" d=\"M 41.988281 171.328125 L 246.519531 171.328125 \"/>\n",
       "<path style=\"fill:none;stroke-width:0.533489;stroke-linecap:butt;stroke-linejoin:round;stroke:rgb(100%,100%,100%);stroke-opacity:1;stroke-miterlimit:10;\" d=\"M 41.988281 73.628906 L 246.519531 73.628906 \"/>\n",
       "<path style=\"fill:none;stroke-width:0.533489;stroke-linecap:butt;stroke-linejoin:round;stroke:rgb(100%,100%,100%);stroke-opacity:1;stroke-miterlimit:10;\" d=\"M 73.792969 430.046875 L 73.792969 5.480469 \"/>\n",
       "<path style=\"fill:none;stroke-width:0.533489;stroke-linecap:butt;stroke-linejoin:round;stroke:rgb(100%,100%,100%);stroke-opacity:1;stroke-miterlimit:10;\" d=\"M 120.488281 430.046875 L 120.488281 5.480469 \"/>\n",
       "<path style=\"fill:none;stroke-width:0.533489;stroke-linecap:butt;stroke-linejoin:round;stroke:rgb(100%,100%,100%);stroke-opacity:1;stroke-miterlimit:10;\" d=\"M 167.183594 430.046875 L 167.183594 5.480469 \"/>\n",
       "<path style=\"fill:none;stroke-width:0.533489;stroke-linecap:butt;stroke-linejoin:round;stroke:rgb(100%,100%,100%);stroke-opacity:1;stroke-miterlimit:10;\" d=\"M 213.875 430.046875 L 213.875 5.480469 \"/>\n",
       "<path style=\"fill:none;stroke-width:1.066978;stroke-linecap:butt;stroke-linejoin:round;stroke:rgb(100%,100%,100%);stroke-opacity:1;stroke-miterlimit:10;\" d=\"M 41.988281 415.574219 L 246.519531 415.574219 \"/>\n",
       "<path style=\"fill:none;stroke-width:1.066978;stroke-linecap:butt;stroke-linejoin:round;stroke:rgb(100%,100%,100%);stroke-opacity:1;stroke-miterlimit:10;\" d=\"M 41.988281 317.875 L 246.519531 317.875 \"/>\n",
       "<path style=\"fill:none;stroke-width:1.066978;stroke-linecap:butt;stroke-linejoin:round;stroke:rgb(100%,100%,100%);stroke-opacity:1;stroke-miterlimit:10;\" d=\"M 41.988281 220.175781 L 246.519531 220.175781 \"/>\n",
       "<path style=\"fill:none;stroke-width:1.066978;stroke-linecap:butt;stroke-linejoin:round;stroke:rgb(100%,100%,100%);stroke-opacity:1;stroke-miterlimit:10;\" d=\"M 41.988281 122.476563 L 246.519531 122.476563 \"/>\n",
       "<path style=\"fill:none;stroke-width:1.066978;stroke-linecap:butt;stroke-linejoin:round;stroke:rgb(100%,100%,100%);stroke-opacity:1;stroke-miterlimit:10;\" d=\"M 41.988281 24.777344 L 246.519531 24.777344 \"/>\n",
       "<path style=\"fill:none;stroke-width:1.066978;stroke-linecap:butt;stroke-linejoin:round;stroke:rgb(100%,100%,100%);stroke-opacity:1;stroke-miterlimit:10;\" d=\"M 50.445313 430.046875 L 50.445313 5.480469 \"/>\n",
       "<path style=\"fill:none;stroke-width:1.066978;stroke-linecap:butt;stroke-linejoin:round;stroke:rgb(100%,100%,100%);stroke-opacity:1;stroke-miterlimit:10;\" d=\"M 97.140625 430.046875 L 97.140625 5.480469 \"/>\n",
       "<path style=\"fill:none;stroke-width:1.066978;stroke-linecap:butt;stroke-linejoin:round;stroke:rgb(100%,100%,100%);stroke-opacity:1;stroke-miterlimit:10;\" d=\"M 143.835938 430.046875 L 143.835938 5.480469 \"/>\n",
       "<path style=\"fill:none;stroke-width:1.066978;stroke-linecap:butt;stroke-linejoin:round;stroke:rgb(100%,100%,100%);stroke-opacity:1;stroke-miterlimit:10;\" d=\"M 190.53125 430.046875 L 190.53125 5.480469 \"/>\n",
       "<path style=\"fill:none;stroke-width:1.066978;stroke-linecap:butt;stroke-linejoin:round;stroke:rgb(100%,100%,100%);stroke-opacity:1;stroke-miterlimit:10;\" d=\"M 237.222656 430.046875 L 237.222656 5.480469 \"/>\n",
       "<path style=\"fill:none;stroke-width:1.066978;stroke-linecap:butt;stroke-linejoin:round;stroke:rgb(97.254902%,46.27451%,42.745098%);stroke-opacity:1;stroke-miterlimit:1;\" d=\"M 51.285156 410.75 L 52.121094 405.925781 L 52.960938 401.101563 L 53.796875 401.101563 L 54.636719 396.277344 L 55.472656 391.453125 L 56.308594 386.625 L 57.148438 381.800781 L 57.984375 376.976563 L 58.824219 372.152344 L 59.660156 367.328125 L 60.496094 367.328125 L 61.335938 362.503906 L 62.171875 357.679688 L 63.011719 352.855469 L 63.847656 348.03125 L 64.6875 343.207031 L 65.523438 338.378906 L 66.359375 333.554688 L 67.199219 328.730469 L 68.035156 323.90625 L 68.875 319.082031 L 70.546875 309.433594 L 71.386719 304.609375 L 72.222656 299.785156 L 73.0625 294.957031 L 73.898438 290.132813 L 74.738281 285.308594 L 76.410156 275.660156 L 77.25 270.835938 L 78.085938 266.011719 L 78.925781 261.1875 L 79.761719 256.363281 L 80.597656 256.363281 L 81.4375 251.535156 L 82.273438 251.535156 L 83.113281 246.710938 L 84.789063 246.710938 L 86.460938 237.0625 L 87.300781 232.238281 L 88.136719 227.414063 L 88.976563 222.589844 L 89.8125 217.765625 L 90.648438 217.765625 L 91.488281 212.9375 L 92.324219 208.113281 L 93.164063 208.113281 L 94 203.289063 L 94.839844 198.464844 L 96.511719 188.816406 L 97.351563 188.816406 L 98.1875 183.992188 L 99.027344 179.167969 L 99.863281 179.167969 L 100.699219 174.34375 L 101.539063 174.34375 L 102.375 169.515625 L 103.214844 169.515625 L 104.050781 164.691406 L 104.890625 159.867188 L 106.5625 159.867188 L 107.402344 155.042969 L 108.238281 155.042969 L 109.078125 150.21875 L 112.425781 150.21875 L 113.265625 145.394531 L 114.101563 145.394531 L 114.9375 140.570313 L 115.777344 135.746094 L 117.453125 135.746094 L 118.289063 130.921875 L 120.800781 130.921875 L 121.640625 126.09375 L 122.476563 121.269531 L 123.316406 116.445313 L 135.878906 116.445313 L 136.714844 111.621094 L 140.066406 111.621094 L 140.902344 106.796875 L 141.742188 106.796875 L 142.578125 101.972656 L 146.765625 101.972656 L 147.605469 97.148438 L 152.628906 97.148438 L 153.46875 92.324219 L 154.304688 87.5 L 155.980469 87.5 L 156.816406 82.671875 L 159.332031 82.671875 L 160.167969 77.847656 L 161.84375 77.847656 L 162.679688 73.023438 L 174.40625 73.023438 L 175.242188 68.199219 L 181.945313 68.199219 L 182.78125 63.375 L 191.996094 63.375 L 192.832031 58.550781 L 202.882813 58.550781 L 203.722656 53.726563 L 204.558594 48.902344 L 209.585938 48.902344 L 210.421875 44.078125 L 222.148438 44.078125 L 222.984375 39.253906 L 224.660156 39.253906 L 225.496094 34.425781 L 226.335938 34.425781 L 227.171875 29.601563 L 236.386719 29.601563 L 237.222656 24.777344 \"/>\n",
       "</g>\n",
       "<g style=\"fill:rgb(30.196078%,30.196078%,30.196078%);fill-opacity:1;\">\n",
       "  <use xlink:href=\"#glyph0-0\" x=\"19.925781\" y=\"418.722656\"/>\n",
       "  <use xlink:href=\"#glyph0-1\" x=\"24.819922\" y=\"418.722656\"/>\n",
       "  <use xlink:href=\"#glyph0-0\" x=\"27.264844\" y=\"418.722656\"/>\n",
       "  <use xlink:href=\"#glyph0-0\" x=\"32.158984\" y=\"418.722656\"/>\n",
       "</g>\n",
       "<g style=\"fill:rgb(30.196078%,30.196078%,30.196078%);fill-opacity:1;\">\n",
       "  <use xlink:href=\"#glyph0-0\" x=\"19.925781\" y=\"321.023438\"/>\n",
       "  <use xlink:href=\"#glyph0-1\" x=\"24.819922\" y=\"321.023438\"/>\n",
       "  <use xlink:href=\"#glyph0-2\" x=\"27.264844\" y=\"321.023438\"/>\n",
       "  <use xlink:href=\"#glyph0-3\" x=\"32.158984\" y=\"321.023438\"/>\n",
       "</g>\n",
       "<g style=\"fill:rgb(30.196078%,30.196078%,30.196078%);fill-opacity:1;\">\n",
       "  <use xlink:href=\"#glyph0-0\" x=\"19.925781\" y=\"223.324219\"/>\n",
       "  <use xlink:href=\"#glyph0-1\" x=\"24.819922\" y=\"223.324219\"/>\n",
       "  <use xlink:href=\"#glyph0-3\" x=\"27.264844\" y=\"223.324219\"/>\n",
       "  <use xlink:href=\"#glyph0-0\" x=\"32.158984\" y=\"223.324219\"/>\n",
       "</g>\n",
       "<g style=\"fill:rgb(30.196078%,30.196078%,30.196078%);fill-opacity:1;\">\n",
       "  <use xlink:href=\"#glyph0-0\" x=\"19.925781\" y=\"125.625\"/>\n",
       "  <use xlink:href=\"#glyph0-1\" x=\"24.819922\" y=\"125.625\"/>\n",
       "  <use xlink:href=\"#glyph0-4\" x=\"27.264844\" y=\"125.625\"/>\n",
       "  <use xlink:href=\"#glyph0-3\" x=\"32.158984\" y=\"125.625\"/>\n",
       "</g>\n",
       "<g style=\"fill:rgb(30.196078%,30.196078%,30.196078%);fill-opacity:1;\">\n",
       "  <use xlink:href=\"#glyph0-5\" x=\"19.925781\" y=\"27.925781\"/>\n",
       "  <use xlink:href=\"#glyph0-1\" x=\"24.819922\" y=\"27.925781\"/>\n",
       "  <use xlink:href=\"#glyph0-0\" x=\"27.264844\" y=\"27.925781\"/>\n",
       "  <use xlink:href=\"#glyph0-0\" x=\"32.158984\" y=\"27.925781\"/>\n",
       "</g>\n",
       "<path style=\"fill:none;stroke-width:1.066978;stroke-linecap:butt;stroke-linejoin:round;stroke:rgb(20%,20%,20%);stroke-opacity:1;stroke-miterlimit:10;\" d=\"M 39.246094 415.574219 L 41.988281 415.574219 \"/>\n",
       "<path style=\"fill:none;stroke-width:1.066978;stroke-linecap:butt;stroke-linejoin:round;stroke:rgb(20%,20%,20%);stroke-opacity:1;stroke-miterlimit:10;\" d=\"M 39.246094 317.875 L 41.988281 317.875 \"/>\n",
       "<path style=\"fill:none;stroke-width:1.066978;stroke-linecap:butt;stroke-linejoin:round;stroke:rgb(20%,20%,20%);stroke-opacity:1;stroke-miterlimit:10;\" d=\"M 39.246094 220.175781 L 41.988281 220.175781 \"/>\n",
       "<path style=\"fill:none;stroke-width:1.066978;stroke-linecap:butt;stroke-linejoin:round;stroke:rgb(20%,20%,20%);stroke-opacity:1;stroke-miterlimit:10;\" d=\"M 39.246094 122.476563 L 41.988281 122.476563 \"/>\n",
       "<path style=\"fill:none;stroke-width:1.066978;stroke-linecap:butt;stroke-linejoin:round;stroke:rgb(20%,20%,20%);stroke-opacity:1;stroke-miterlimit:10;\" d=\"M 39.246094 24.777344 L 41.988281 24.777344 \"/>\n",
       "<path style=\"fill:none;stroke-width:1.066978;stroke-linecap:butt;stroke-linejoin:round;stroke:rgb(20%,20%,20%);stroke-opacity:1;stroke-miterlimit:10;\" d=\"M 50.445313 432.789063 L 50.445313 430.046875 \"/>\n",
       "<path style=\"fill:none;stroke-width:1.066978;stroke-linecap:butt;stroke-linejoin:round;stroke:rgb(20%,20%,20%);stroke-opacity:1;stroke-miterlimit:10;\" d=\"M 97.140625 432.789063 L 97.140625 430.046875 \"/>\n",
       "<path style=\"fill:none;stroke-width:1.066978;stroke-linecap:butt;stroke-linejoin:round;stroke:rgb(20%,20%,20%);stroke-opacity:1;stroke-miterlimit:10;\" d=\"M 143.835938 432.789063 L 143.835938 430.046875 \"/>\n",
       "<path style=\"fill:none;stroke-width:1.066978;stroke-linecap:butt;stroke-linejoin:round;stroke:rgb(20%,20%,20%);stroke-opacity:1;stroke-miterlimit:10;\" d=\"M 190.53125 432.789063 L 190.53125 430.046875 \"/>\n",
       "<path style=\"fill:none;stroke-width:1.066978;stroke-linecap:butt;stroke-linejoin:round;stroke:rgb(20%,20%,20%);stroke-opacity:1;stroke-miterlimit:10;\" d=\"M 237.222656 432.789063 L 237.222656 430.046875 \"/>\n",
       "<g style=\"fill:rgb(30.196078%,30.196078%,30.196078%);fill-opacity:1;\">\n",
       "  <use xlink:href=\"#glyph0-0\" x=\"41.882813\" y=\"441.28125\"/>\n",
       "  <use xlink:href=\"#glyph0-1\" x=\"46.776953\" y=\"441.28125\"/>\n",
       "  <use xlink:href=\"#glyph0-0\" x=\"49.221875\" y=\"441.28125\"/>\n",
       "  <use xlink:href=\"#glyph0-0\" x=\"54.116016\" y=\"441.28125\"/>\n",
       "</g>\n",
       "<g style=\"fill:rgb(30.196078%,30.196078%,30.196078%);fill-opacity:1;\">\n",
       "  <use xlink:href=\"#glyph0-0\" x=\"88.578125\" y=\"441.28125\"/>\n",
       "  <use xlink:href=\"#glyph0-1\" x=\"93.472266\" y=\"441.28125\"/>\n",
       "  <use xlink:href=\"#glyph0-2\" x=\"95.917188\" y=\"441.28125\"/>\n",
       "  <use xlink:href=\"#glyph0-3\" x=\"100.811328\" y=\"441.28125\"/>\n",
       "</g>\n",
       "<g style=\"fill:rgb(30.196078%,30.196078%,30.196078%);fill-opacity:1;\">\n",
       "  <use xlink:href=\"#glyph0-0\" x=\"135.273438\" y=\"441.28125\"/>\n",
       "  <use xlink:href=\"#glyph0-1\" x=\"140.167578\" y=\"441.28125\"/>\n",
       "  <use xlink:href=\"#glyph0-3\" x=\"142.6125\" y=\"441.28125\"/>\n",
       "  <use xlink:href=\"#glyph0-0\" x=\"147.506641\" y=\"441.28125\"/>\n",
       "</g>\n",
       "<g style=\"fill:rgb(30.196078%,30.196078%,30.196078%);fill-opacity:1;\">\n",
       "  <use xlink:href=\"#glyph0-0\" x=\"181.96875\" y=\"441.28125\"/>\n",
       "  <use xlink:href=\"#glyph0-1\" x=\"186.862891\" y=\"441.28125\"/>\n",
       "  <use xlink:href=\"#glyph0-4\" x=\"189.307813\" y=\"441.28125\"/>\n",
       "  <use xlink:href=\"#glyph0-3\" x=\"194.201953\" y=\"441.28125\"/>\n",
       "</g>\n",
       "<g style=\"fill:rgb(30.196078%,30.196078%,30.196078%);fill-opacity:1;\">\n",
       "  <use xlink:href=\"#glyph0-5\" x=\"228.660156\" y=\"441.28125\"/>\n",
       "  <use xlink:href=\"#glyph0-1\" x=\"233.554297\" y=\"441.28125\"/>\n",
       "  <use xlink:href=\"#glyph0-0\" x=\"235.999219\" y=\"441.28125\"/>\n",
       "  <use xlink:href=\"#glyph0-0\" x=\"240.893359\" y=\"441.28125\"/>\n",
       "</g>\n",
       "<g style=\"fill:rgb(0%,0%,0%);fill-opacity:1;\">\n",
       "  <use xlink:href=\"#glyph1-0\" x=\"118.871094\" y=\"453.535156\"/>\n",
       "  <use xlink:href=\"#glyph1-1\" x=\"124.98877\" y=\"453.535156\"/>\n",
       "  <use xlink:href=\"#glyph1-0\" x=\"131.106445\" y=\"453.535156\"/>\n",
       "  <use xlink:href=\"#glyph1-2\" x=\"137.224121\" y=\"453.535156\"/>\n",
       "  <use xlink:href=\"#glyph1-3\" x=\"143.341797\" y=\"453.535156\"/>\n",
       "  <use xlink:href=\"#glyph1-4\" x=\"145.785645\" y=\"453.535156\"/>\n",
       "  <use xlink:href=\"#glyph1-5\" x=\"151.90332\" y=\"453.535156\"/>\n",
       "  <use xlink:href=\"#glyph1-6\" x=\"154.959473\" y=\"453.535156\"/>\n",
       "  <use xlink:href=\"#glyph1-1\" x=\"157.40332\" y=\"453.535156\"/>\n",
       "  <use xlink:href=\"#glyph1-7\" x=\"163.520996\" y=\"453.535156\"/>\n",
       "</g>\n",
       "<g style=\"fill:rgb(0%,0%,0%);fill-opacity:1;\">\n",
       "  <use xlink:href=\"#glyph2-0\" x=\"15.546875\" y=\"260.273438\"/>\n",
       "  <use xlink:href=\"#glyph2-1\" x=\"15.546875\" y=\"257.217285\"/>\n",
       "  <use xlink:href=\"#glyph2-2\" x=\"15.546875\" y=\"251.099609\"/>\n",
       "  <use xlink:href=\"#glyph2-3\" x=\"15.546875\" y=\"247.436523\"/>\n",
       "  <use xlink:href=\"#glyph2-4\" x=\"15.546875\" y=\"241.318848\"/>\n",
       "  <use xlink:href=\"#glyph2-0\" x=\"15.546875\" y=\"235.201172\"/>\n",
       "  <use xlink:href=\"#glyph2-5\" x=\"15.546875\" y=\"232.14502\"/>\n",
       "  <use xlink:href=\"#glyph2-6\" x=\"15.546875\" y=\"226.027344\"/>\n",
       "  <use xlink:href=\"#glyph2-7\" x=\"15.546875\" y=\"219.909668\"/>\n",
       "  <use xlink:href=\"#glyph2-6\" x=\"15.546875\" y=\"213.791992\"/>\n",
       "  <use xlink:href=\"#glyph2-8\" x=\"15.546875\" y=\"207.674316\"/>\n",
       "  <use xlink:href=\"#glyph2-9\" x=\"15.546875\" y=\"201.556641\"/>\n",
       "  <use xlink:href=\"#glyph2-1\" x=\"15.546875\" y=\"199.112793\"/>\n",
       "  <use xlink:href=\"#glyph2-0\" x=\"15.546875\" y=\"192.995117\"/>\n",
       "  <use xlink:href=\"#glyph2-10\" x=\"15.546875\" y=\"189.938965\"/>\n",
       "  <use xlink:href=\"#glyph2-7\" x=\"15.546875\" y=\"187.495117\"/>\n",
       "  <use xlink:href=\"#glyph2-11\" x=\"15.546875\" y=\"181.377441\"/>\n",
       "</g>\n",
       "<path style=\" stroke:none;fill-rule:nonzero;fill:rgb(100%,100%,100%);fill-opacity:1;\" d=\"M 12.492188 490.015625 L 276.019531 490.015625 L 276.019531 464.230469 L 12.492188 464.230469 Z M 12.492188 490.015625 \"/>\n",
       "<g style=\"fill:rgb(0%,0%,0%);fill-opacity:1;\">\n",
       "  <use xlink:href=\"#glyph1-8\" x=\"16.742188\" y=\"481.0625\"/>\n",
       "  <use xlink:href=\"#glyph1-9\" x=\"22.242188\" y=\"481.0625\"/>\n",
       "  <use xlink:href=\"#glyph1-8\" x=\"28.359863\" y=\"481.0625\"/>\n",
       "  <use xlink:href=\"#glyph1-8\" x=\"33.859863\" y=\"481.0625\"/>\n",
       "  <use xlink:href=\"#glyph1-6\" x=\"39.359863\" y=\"481.0625\"/>\n",
       "  <use xlink:href=\"#glyph1-1\" x=\"41.803711\" y=\"481.0625\"/>\n",
       "  <use xlink:href=\"#glyph1-7\" x=\"47.921387\" y=\"481.0625\"/>\n",
       "  <use xlink:href=\"#glyph1-10\" x=\"54.039063\" y=\"481.0625\"/>\n",
       "  <use xlink:href=\"#glyph1-6\" x=\"60.156738\" y=\"481.0625\"/>\n",
       "  <use xlink:href=\"#glyph1-11\" x=\"62.600586\" y=\"481.0625\"/>\n",
       "</g>\n",
       "<path style=\"fill-rule:nonzero;fill:rgb(94.901961%,94.901961%,94.901961%);fill-opacity:1;stroke-width:1.066978;stroke-linecap:round;stroke-linejoin:round;stroke:rgb(100%,100%,100%);stroke-opacity:1;stroke-miterlimit:10;\" d=\"M 73.027344 485.765625 L 90.308594 485.765625 L 90.308594 468.484375 L 73.027344 468.484375 Z M 73.027344 485.765625 \"/>\n",
       "<path style=\"fill:none;stroke-width:1.066978;stroke-linecap:butt;stroke-linejoin:round;stroke:rgb(97.254902%,46.27451%,42.745098%);stroke-opacity:1;stroke-miterlimit:10;\" d=\"M 74.753906 477.125 L 88.578125 477.125 \"/>\n",
       "<g style=\"fill:rgb(0%,0%,0%);fill-opacity:1;\">\n",
       "  <use xlink:href=\"#glyph0-6\" x=\"92.46875\" y=\"480.273438\"/>\n",
       "  <use xlink:href=\"#glyph0-7\" x=\"96.86875\" y=\"480.273438\"/>\n",
       "  <use xlink:href=\"#glyph0-8\" x=\"101.762891\" y=\"480.273438\"/>\n",
       "  <use xlink:href=\"#glyph0-9\" x=\"106.162891\" y=\"480.273438\"/>\n",
       "  <use xlink:href=\"#glyph0-10\" x=\"111.057031\" y=\"480.273438\"/>\n",
       "  <use xlink:href=\"#glyph0-11\" x=\"113.501953\" y=\"480.273438\"/>\n",
       "  <use xlink:href=\"#glyph0-12\" x=\"118.396094\" y=\"480.273438\"/>\n",
       "  <use xlink:href=\"#glyph0-12\" x=\"123.290234\" y=\"480.273438\"/>\n",
       "  <use xlink:href=\"#glyph0-13\" x=\"128.184375\" y=\"480.273438\"/>\n",
       "  <use xlink:href=\"#glyph0-10\" x=\"133.078516\" y=\"480.273438\"/>\n",
       "  <use xlink:href=\"#glyph0-14\" x=\"135.523438\" y=\"480.273438\"/>\n",
       "  <use xlink:href=\"#glyph0-10\" x=\"137.478516\" y=\"480.273438\"/>\n",
       "  <use xlink:href=\"#glyph0-15\" x=\"139.923438\" y=\"480.273438\"/>\n",
       "  <use xlink:href=\"#glyph0-16\" x=\"144.817578\" y=\"480.273438\"/>\n",
       "  <use xlink:href=\"#glyph0-14\" x=\"149.711719\" y=\"480.273438\"/>\n",
       "  <use xlink:href=\"#glyph0-8\" x=\"151.666797\" y=\"480.273438\"/>\n",
       "  <use xlink:href=\"#glyph0-13\" x=\"156.066797\" y=\"480.273438\"/>\n",
       "  <use xlink:href=\"#glyph0-10\" x=\"160.960938\" y=\"480.273438\"/>\n",
       "  <use xlink:href=\"#glyph0-17\" x=\"163.405859\" y=\"480.273438\"/>\n",
       "  <use xlink:href=\"#glyph0-15\" x=\"166.336328\" y=\"480.273438\"/>\n",
       "  <use xlink:href=\"#glyph0-14\" x=\"171.230469\" y=\"480.273438\"/>\n",
       "  <use xlink:href=\"#glyph0-16\" x=\"173.185547\" y=\"480.273438\"/>\n",
       "  <use xlink:href=\"#glyph0-14\" x=\"178.079688\" y=\"480.273438\"/>\n",
       "  <use xlink:href=\"#glyph0-16\" x=\"180.034766\" y=\"480.273438\"/>\n",
       "  <use xlink:href=\"#glyph0-18\" x=\"184.928906\" y=\"480.273438\"/>\n",
       "  <use xlink:href=\"#glyph0-13\" x=\"189.823047\" y=\"480.273438\"/>\n",
       "  <use xlink:href=\"#glyph0-2\" x=\"194.717188\" y=\"480.273438\"/>\n",
       "  <use xlink:href=\"#glyph0-0\" x=\"199.611328\" y=\"480.273438\"/>\n",
       "  <use xlink:href=\"#glyph0-5\" x=\"204.505469\" y=\"480.273438\"/>\n",
       "  <use xlink:href=\"#glyph0-19\" x=\"209.399609\" y=\"480.273438\"/>\n",
       "  <use xlink:href=\"#glyph0-5\" x=\"214.29375\" y=\"480.273438\"/>\n",
       "  <use xlink:href=\"#glyph0-5\" x=\"219.187891\" y=\"480.273438\"/>\n",
       "  <use xlink:href=\"#glyph0-5\" x=\"224.082031\" y=\"480.273438\"/>\n",
       "  <use xlink:href=\"#glyph0-19\" x=\"228.976172\" y=\"480.273438\"/>\n",
       "  <use xlink:href=\"#glyph0-13\" x=\"233.870313\" y=\"480.273438\"/>\n",
       "  <use xlink:href=\"#glyph0-12\" x=\"238.764453\" y=\"480.273438\"/>\n",
       "  <use xlink:href=\"#glyph0-4\" x=\"243.658594\" y=\"480.273438\"/>\n",
       "  <use xlink:href=\"#glyph0-2\" x=\"248.552734\" y=\"480.273438\"/>\n",
       "  <use xlink:href=\"#glyph0-0\" x=\"253.446875\" y=\"480.273438\"/>\n",
       "  <use xlink:href=\"#glyph0-4\" x=\"258.341016\" y=\"480.273438\"/>\n",
       "  <use xlink:href=\"#glyph0-4\" x=\"263.235156\" y=\"480.273438\"/>\n",
       "</g>\n",
       "<g clip-path=\"url(#clip3)\" clip-rule=\"nonzero\">\n",
       "<path style=\"fill-rule:nonzero;fill:rgb(100%,100%,100%);fill-opacity:1;stroke-width:1.066978;stroke-linecap:round;stroke-linejoin:round;stroke:rgb(100%,100%,100%);stroke-opacity:1;stroke-miterlimit:10;\" d=\"M 252 504 L 504 504 L 504 0 L 252 0 Z M 252 504 \"/>\n",
       "</g>\n",
       "<g clip-path=\"url(#clip4)\" clip-rule=\"nonzero\">\n",
       "<path style=\" stroke:none;fill-rule:nonzero;fill:rgb(92.156863%,92.156863%,92.156863%);fill-opacity:1;\" d=\"M 293.988281 430.046875 L 498.519531 430.046875 L 498.519531 5.476563 L 293.988281 5.476563 Z M 293.988281 430.046875 \"/>\n",
       "<path style=\"fill:none;stroke-width:0.533489;stroke-linecap:butt;stroke-linejoin:round;stroke:rgb(100%,100%,100%);stroke-opacity:1;stroke-miterlimit:10;\" d=\"M 293.988281 366.726563 L 498.519531 366.726563 \"/>\n",
       "<path style=\"fill:none;stroke-width:0.533489;stroke-linecap:butt;stroke-linejoin:round;stroke:rgb(100%,100%,100%);stroke-opacity:1;stroke-miterlimit:10;\" d=\"M 293.988281 269.027344 L 498.519531 269.027344 \"/>\n",
       "<path style=\"fill:none;stroke-width:0.533489;stroke-linecap:butt;stroke-linejoin:round;stroke:rgb(100%,100%,100%);stroke-opacity:1;stroke-miterlimit:10;\" d=\"M 293.988281 171.328125 L 498.519531 171.328125 \"/>\n",
       "<path style=\"fill:none;stroke-width:0.533489;stroke-linecap:butt;stroke-linejoin:round;stroke:rgb(100%,100%,100%);stroke-opacity:1;stroke-miterlimit:10;\" d=\"M 293.988281 73.628906 L 498.519531 73.628906 \"/>\n",
       "<path style=\"fill:none;stroke-width:0.533489;stroke-linecap:butt;stroke-linejoin:round;stroke:rgb(100%,100%,100%);stroke-opacity:1;stroke-miterlimit:10;\" d=\"M 326.527344 430.046875 L 326.527344 5.480469 \"/>\n",
       "<path style=\"fill:none;stroke-width:0.533489;stroke-linecap:butt;stroke-linejoin:round;stroke:rgb(100%,100%,100%);stroke-opacity:1;stroke-miterlimit:10;\" d=\"M 373.011719 430.046875 L 373.011719 5.480469 \"/>\n",
       "<path style=\"fill:none;stroke-width:0.533489;stroke-linecap:butt;stroke-linejoin:round;stroke:rgb(100%,100%,100%);stroke-opacity:1;stroke-miterlimit:10;\" d=\"M 419.496094 430.046875 L 419.496094 5.480469 \"/>\n",
       "<path style=\"fill:none;stroke-width:0.533489;stroke-linecap:butt;stroke-linejoin:round;stroke:rgb(100%,100%,100%);stroke-opacity:1;stroke-miterlimit:10;\" d=\"M 465.980469 430.046875 L 465.980469 5.480469 \"/>\n",
       "<path style=\"fill:none;stroke-width:1.066978;stroke-linecap:butt;stroke-linejoin:round;stroke:rgb(100%,100%,100%);stroke-opacity:1;stroke-miterlimit:10;\" d=\"M 293.988281 415.574219 L 498.519531 415.574219 \"/>\n",
       "<path style=\"fill:none;stroke-width:1.066978;stroke-linecap:butt;stroke-linejoin:round;stroke:rgb(100%,100%,100%);stroke-opacity:1;stroke-miterlimit:10;\" d=\"M 293.988281 317.875 L 498.519531 317.875 \"/>\n",
       "<path style=\"fill:none;stroke-width:1.066978;stroke-linecap:butt;stroke-linejoin:round;stroke:rgb(100%,100%,100%);stroke-opacity:1;stroke-miterlimit:10;\" d=\"M 293.988281 220.175781 L 498.519531 220.175781 \"/>\n",
       "<path style=\"fill:none;stroke-width:1.066978;stroke-linecap:butt;stroke-linejoin:round;stroke:rgb(100%,100%,100%);stroke-opacity:1;stroke-miterlimit:10;\" d=\"M 293.988281 122.476563 L 498.519531 122.476563 \"/>\n",
       "<path style=\"fill:none;stroke-width:1.066978;stroke-linecap:butt;stroke-linejoin:round;stroke:rgb(100%,100%,100%);stroke-opacity:1;stroke-miterlimit:10;\" d=\"M 293.988281 24.777344 L 498.519531 24.777344 \"/>\n",
       "<path style=\"fill:none;stroke-width:1.066978;stroke-linecap:butt;stroke-linejoin:round;stroke:rgb(100%,100%,100%);stroke-opacity:1;stroke-miterlimit:10;\" d=\"M 303.285156 430.046875 L 303.285156 5.480469 \"/>\n",
       "<path style=\"fill:none;stroke-width:1.066978;stroke-linecap:butt;stroke-linejoin:round;stroke:rgb(100%,100%,100%);stroke-opacity:1;stroke-miterlimit:10;\" d=\"M 349.769531 430.046875 L 349.769531 5.480469 \"/>\n",
       "<path style=\"fill:none;stroke-width:1.066978;stroke-linecap:butt;stroke-linejoin:round;stroke:rgb(100%,100%,100%);stroke-opacity:1;stroke-miterlimit:10;\" d=\"M 396.253906 430.046875 L 396.253906 5.480469 \"/>\n",
       "<path style=\"fill:none;stroke-width:1.066978;stroke-linecap:butt;stroke-linejoin:round;stroke:rgb(100%,100%,100%);stroke-opacity:1;stroke-miterlimit:10;\" d=\"M 442.738281 430.046875 L 442.738281 5.480469 \"/>\n",
       "<path style=\"fill:none;stroke-width:1.066978;stroke-linecap:butt;stroke-linejoin:round;stroke:rgb(100%,100%,100%);stroke-opacity:1;stroke-miterlimit:10;\" d=\"M 489.222656 430.046875 L 489.222656 5.480469 \"/>\n",
       "<path style=\"fill:none;stroke-width:1.066978;stroke-linecap:butt;stroke-linejoin:round;stroke:rgb(97.254902%,46.27451%,42.745098%);stroke-opacity:1;stroke-miterlimit:1;\" d=\"M 303.285156 410.75 L 303.285156 401.101563 L 304.59375 401.101563 L 304.59375 367.328125 L 305.902344 275.660156 L 305.902344 266.011719 L 305.902344 367.328125 L 305.902344 256.359375 L 307.214844 251.535156 L 307.214844 256.359375 L 308.523438 251.535156 L 308.523438 246.710938 L 311.140625 246.710938 L 311.140625 217.765625 L 312.449219 208.113281 L 312.449219 217.765625 L 312.449219 212.9375 L 313.761719 193.640625 L 313.761719 188.816406 L 313.761719 208.113281 L 313.761719 198.464844 L 315.070313 179.167969 L 315.070313 188.816406 L 315.070313 183.992188 L 316.378906 174.34375 L 316.378906 179.167969 L 317.6875 174.34375 L 317.6875 169.515625 L 318.996094 164.691406 L 318.996094 169.515625 L 318.996094 159.867188 L 320.308594 159.867188 L 321.617188 155.042969 L 321.617188 159.867188 L 322.925781 155.042969 L 322.925781 150.21875 L 328.164063 150.21875 L 328.164063 145.394531 L 329.472656 145.394531 L 329.472656 135.746094 L 332.09375 135.746094 L 332.09375 130.921875 L 334.710938 130.921875 L 336.019531 116.445313 L 336.019531 130.921875 L 336.019531 121.269531 L 337.328125 116.445313 L 354.351563 116.445313 L 355.660156 111.621094 L 355.660156 116.445313 L 356.972656 111.621094 L 359.589844 111.621094 L 360.898438 106.796875 L 360.898438 111.621094 L 362.207031 101.972656 L 362.207031 106.796875 L 363.519531 101.972656 L 367.445313 101.972656 L 368.757813 97.148438 L 368.757813 101.972656 L 370.066406 97.148438 L 376.613281 97.148438 L 376.613281 87.5 L 379.230469 87.5 L 379.230469 82.675781 L 383.160156 82.675781 L 383.160156 77.847656 L 385.777344 77.847656 L 385.777344 73.023438 L 404.109375 73.023438 L 404.109375 68.199219 L 414.585938 68.199219 L 414.585938 63.375 L 428.988281 63.375 L 428.988281 58.550781 L 444.703125 58.550781 L 444.703125 48.902344 L 452.558594 48.902344 L 452.558594 44.078125 L 470.890625 44.078125 L 470.890625 39.253906 L 473.511719 39.253906 L 473.511719 34.425781 L 474.820313 34.425781 L 474.820313 29.601563 L 489.222656 29.601563 L 489.222656 24.777344 \"/>\n",
       "</g>\n",
       "<g style=\"fill:rgb(30.196078%,30.196078%,30.196078%);fill-opacity:1;\">\n",
       "  <use xlink:href=\"#glyph0-0\" x=\"271.925781\" y=\"418.722656\"/>\n",
       "  <use xlink:href=\"#glyph0-1\" x=\"276.819922\" y=\"418.722656\"/>\n",
       "  <use xlink:href=\"#glyph0-0\" x=\"279.264844\" y=\"418.722656\"/>\n",
       "  <use xlink:href=\"#glyph0-0\" x=\"284.158984\" y=\"418.722656\"/>\n",
       "</g>\n",
       "<g style=\"fill:rgb(30.196078%,30.196078%,30.196078%);fill-opacity:1;\">\n",
       "  <use xlink:href=\"#glyph0-0\" x=\"271.925781\" y=\"321.023438\"/>\n",
       "  <use xlink:href=\"#glyph0-1\" x=\"276.819922\" y=\"321.023438\"/>\n",
       "  <use xlink:href=\"#glyph0-2\" x=\"279.264844\" y=\"321.023438\"/>\n",
       "  <use xlink:href=\"#glyph0-3\" x=\"284.158984\" y=\"321.023438\"/>\n",
       "</g>\n",
       "<g style=\"fill:rgb(30.196078%,30.196078%,30.196078%);fill-opacity:1;\">\n",
       "  <use xlink:href=\"#glyph0-0\" x=\"271.925781\" y=\"223.324219\"/>\n",
       "  <use xlink:href=\"#glyph0-1\" x=\"276.819922\" y=\"223.324219\"/>\n",
       "  <use xlink:href=\"#glyph0-3\" x=\"279.264844\" y=\"223.324219\"/>\n",
       "  <use xlink:href=\"#glyph0-0\" x=\"284.158984\" y=\"223.324219\"/>\n",
       "</g>\n",
       "<g style=\"fill:rgb(30.196078%,30.196078%,30.196078%);fill-opacity:1;\">\n",
       "  <use xlink:href=\"#glyph0-0\" x=\"271.925781\" y=\"125.625\"/>\n",
       "  <use xlink:href=\"#glyph0-1\" x=\"276.819922\" y=\"125.625\"/>\n",
       "  <use xlink:href=\"#glyph0-4\" x=\"279.264844\" y=\"125.625\"/>\n",
       "  <use xlink:href=\"#glyph0-3\" x=\"284.158984\" y=\"125.625\"/>\n",
       "</g>\n",
       "<g style=\"fill:rgb(30.196078%,30.196078%,30.196078%);fill-opacity:1;\">\n",
       "  <use xlink:href=\"#glyph0-5\" x=\"271.925781\" y=\"27.925781\"/>\n",
       "  <use xlink:href=\"#glyph0-1\" x=\"276.819922\" y=\"27.925781\"/>\n",
       "  <use xlink:href=\"#glyph0-0\" x=\"279.264844\" y=\"27.925781\"/>\n",
       "  <use xlink:href=\"#glyph0-0\" x=\"284.158984\" y=\"27.925781\"/>\n",
       "</g>\n",
       "<path style=\"fill:none;stroke-width:1.066978;stroke-linecap:butt;stroke-linejoin:round;stroke:rgb(20%,20%,20%);stroke-opacity:1;stroke-miterlimit:10;\" d=\"M 291.246094 415.574219 L 293.988281 415.574219 \"/>\n",
       "<path style=\"fill:none;stroke-width:1.066978;stroke-linecap:butt;stroke-linejoin:round;stroke:rgb(20%,20%,20%);stroke-opacity:1;stroke-miterlimit:10;\" d=\"M 291.246094 317.875 L 293.988281 317.875 \"/>\n",
       "<path style=\"fill:none;stroke-width:1.066978;stroke-linecap:butt;stroke-linejoin:round;stroke:rgb(20%,20%,20%);stroke-opacity:1;stroke-miterlimit:10;\" d=\"M 291.246094 220.175781 L 293.988281 220.175781 \"/>\n",
       "<path style=\"fill:none;stroke-width:1.066978;stroke-linecap:butt;stroke-linejoin:round;stroke:rgb(20%,20%,20%);stroke-opacity:1;stroke-miterlimit:10;\" d=\"M 291.246094 122.476563 L 293.988281 122.476563 \"/>\n",
       "<path style=\"fill:none;stroke-width:1.066978;stroke-linecap:butt;stroke-linejoin:round;stroke:rgb(20%,20%,20%);stroke-opacity:1;stroke-miterlimit:10;\" d=\"M 291.246094 24.777344 L 293.988281 24.777344 \"/>\n",
       "<path style=\"fill:none;stroke-width:1.066978;stroke-linecap:butt;stroke-linejoin:round;stroke:rgb(20%,20%,20%);stroke-opacity:1;stroke-miterlimit:10;\" d=\"M 303.285156 432.789063 L 303.285156 430.046875 \"/>\n",
       "<path style=\"fill:none;stroke-width:1.066978;stroke-linecap:butt;stroke-linejoin:round;stroke:rgb(20%,20%,20%);stroke-opacity:1;stroke-miterlimit:10;\" d=\"M 349.769531 432.789063 L 349.769531 430.046875 \"/>\n",
       "<path style=\"fill:none;stroke-width:1.066978;stroke-linecap:butt;stroke-linejoin:round;stroke:rgb(20%,20%,20%);stroke-opacity:1;stroke-miterlimit:10;\" d=\"M 396.253906 432.789063 L 396.253906 430.046875 \"/>\n",
       "<path style=\"fill:none;stroke-width:1.066978;stroke-linecap:butt;stroke-linejoin:round;stroke:rgb(20%,20%,20%);stroke-opacity:1;stroke-miterlimit:10;\" d=\"M 442.738281 432.789063 L 442.738281 430.046875 \"/>\n",
       "<path style=\"fill:none;stroke-width:1.066978;stroke-linecap:butt;stroke-linejoin:round;stroke:rgb(20%,20%,20%);stroke-opacity:1;stroke-miterlimit:10;\" d=\"M 489.222656 432.789063 L 489.222656 430.046875 \"/>\n",
       "<g style=\"fill:rgb(30.196078%,30.196078%,30.196078%);fill-opacity:1;\">\n",
       "  <use xlink:href=\"#glyph0-0\" x=\"294.722656\" y=\"441.28125\"/>\n",
       "  <use xlink:href=\"#glyph0-1\" x=\"299.616797\" y=\"441.28125\"/>\n",
       "  <use xlink:href=\"#glyph0-0\" x=\"302.061719\" y=\"441.28125\"/>\n",
       "  <use xlink:href=\"#glyph0-0\" x=\"306.955859\" y=\"441.28125\"/>\n",
       "</g>\n",
       "<g style=\"fill:rgb(30.196078%,30.196078%,30.196078%);fill-opacity:1;\">\n",
       "  <use xlink:href=\"#glyph0-0\" x=\"341.207031\" y=\"441.28125\"/>\n",
       "  <use xlink:href=\"#glyph0-1\" x=\"346.101172\" y=\"441.28125\"/>\n",
       "  <use xlink:href=\"#glyph0-2\" x=\"348.546094\" y=\"441.28125\"/>\n",
       "  <use xlink:href=\"#glyph0-3\" x=\"353.440234\" y=\"441.28125\"/>\n",
       "</g>\n",
       "<g style=\"fill:rgb(30.196078%,30.196078%,30.196078%);fill-opacity:1;\">\n",
       "  <use xlink:href=\"#glyph0-0\" x=\"387.691406\" y=\"441.28125\"/>\n",
       "  <use xlink:href=\"#glyph0-1\" x=\"392.585547\" y=\"441.28125\"/>\n",
       "  <use xlink:href=\"#glyph0-3\" x=\"395.030469\" y=\"441.28125\"/>\n",
       "  <use xlink:href=\"#glyph0-0\" x=\"399.924609\" y=\"441.28125\"/>\n",
       "</g>\n",
       "<g style=\"fill:rgb(30.196078%,30.196078%,30.196078%);fill-opacity:1;\">\n",
       "  <use xlink:href=\"#glyph0-0\" x=\"434.175781\" y=\"441.28125\"/>\n",
       "  <use xlink:href=\"#glyph0-1\" x=\"439.069922\" y=\"441.28125\"/>\n",
       "  <use xlink:href=\"#glyph0-4\" x=\"441.514844\" y=\"441.28125\"/>\n",
       "  <use xlink:href=\"#glyph0-3\" x=\"446.408984\" y=\"441.28125\"/>\n",
       "</g>\n",
       "<g style=\"fill:rgb(30.196078%,30.196078%,30.196078%);fill-opacity:1;\">\n",
       "  <use xlink:href=\"#glyph0-5\" x=\"480.660156\" y=\"441.28125\"/>\n",
       "  <use xlink:href=\"#glyph0-1\" x=\"485.554297\" y=\"441.28125\"/>\n",
       "  <use xlink:href=\"#glyph0-0\" x=\"487.999219\" y=\"441.28125\"/>\n",
       "  <use xlink:href=\"#glyph0-0\" x=\"492.893359\" y=\"441.28125\"/>\n",
       "</g>\n",
       "<g style=\"fill:rgb(0%,0%,0%);fill-opacity:1;\">\n",
       "  <use xlink:href=\"#glyph1-12\" x=\"350.394531\" y=\"453.535156\"/>\n",
       "  <use xlink:href=\"#glyph1-4\" x=\"353.450684\" y=\"453.535156\"/>\n",
       "  <use xlink:href=\"#glyph1-3\" x=\"359.568359\" y=\"453.535156\"/>\n",
       "  <use xlink:href=\"#glyph1-8\" x=\"362.012207\" y=\"453.535156\"/>\n",
       "  <use xlink:href=\"#glyph1-9\" x=\"367.512207\" y=\"453.535156\"/>\n",
       "  <use xlink:href=\"#glyph1-10\" x=\"373.629883\" y=\"453.535156\"/>\n",
       "  <use xlink:href=\"#glyph1-0\" x=\"379.747559\" y=\"453.535156\"/>\n",
       "  <use xlink:href=\"#glyph1-1\" x=\"385.865234\" y=\"453.535156\"/>\n",
       "  <use xlink:href=\"#glyph1-8\" x=\"391.98291\" y=\"453.535156\"/>\n",
       "  <use xlink:href=\"#glyph1-6\" x=\"397.48291\" y=\"453.535156\"/>\n",
       "  <use xlink:href=\"#glyph1-5\" x=\"399.926758\" y=\"453.535156\"/>\n",
       "  <use xlink:href=\"#glyph1-6\" x=\"402.98291\" y=\"453.535156\"/>\n",
       "  <use xlink:href=\"#glyph1-13\" x=\"405.426758\" y=\"453.535156\"/>\n",
       "  <use xlink:href=\"#glyph1-9\" x=\"410.926758\" y=\"453.535156\"/>\n",
       "  <use xlink:href=\"#glyph1-10\" x=\"417.044434\" y=\"453.535156\"/>\n",
       "  <use xlink:href=\"#glyph1-14\" x=\"423.162109\" y=\"453.535156\"/>\n",
       "  <use xlink:href=\"#glyph1-4\" x=\"426.825195\" y=\"453.535156\"/>\n",
       "  <use xlink:href=\"#glyph1-5\" x=\"432.942871\" y=\"453.535156\"/>\n",
       "  <use xlink:href=\"#glyph1-9\" x=\"435.999023\" y=\"453.535156\"/>\n",
       "</g>\n",
       "<g style=\"fill:rgb(0%,0%,0%);fill-opacity:1;\">\n",
       "  <use xlink:href=\"#glyph2-0\" x=\"267.546875\" y=\"261.484375\"/>\n",
       "  <use xlink:href=\"#glyph2-2\" x=\"267.546875\" y=\"258.428223\"/>\n",
       "  <use xlink:href=\"#glyph2-8\" x=\"267.546875\" y=\"254.765137\"/>\n",
       "  <use xlink:href=\"#glyph2-4\" x=\"267.546875\" y=\"248.647461\"/>\n",
       "  <use xlink:href=\"#glyph2-5\" x=\"267.546875\" y=\"242.529785\"/>\n",
       "  <use xlink:href=\"#glyph2-6\" x=\"267.546875\" y=\"236.412109\"/>\n",
       "  <use xlink:href=\"#glyph2-7\" x=\"267.546875\" y=\"230.294434\"/>\n",
       "  <use xlink:href=\"#glyph2-12\" x=\"267.546875\" y=\"224.176758\"/>\n",
       "  <use xlink:href=\"#glyph2-10\" x=\"267.546875\" y=\"218.676758\"/>\n",
       "  <use xlink:href=\"#glyph2-0\" x=\"267.546875\" y=\"216.23291\"/>\n",
       "  <use xlink:href=\"#glyph2-10\" x=\"267.546875\" y=\"213.176758\"/>\n",
       "  <use xlink:href=\"#glyph2-13\" x=\"267.546875\" y=\"210.73291\"/>\n",
       "  <use xlink:href=\"#glyph2-4\" x=\"267.546875\" y=\"205.23291\"/>\n",
       "  <use xlink:href=\"#glyph2-5\" x=\"267.546875\" y=\"199.115234\"/>\n",
       "  <use xlink:href=\"#glyph2-2\" x=\"267.546875\" y=\"192.997559\"/>\n",
       "  <use xlink:href=\"#glyph2-1\" x=\"267.546875\" y=\"189.334473\"/>\n",
       "  <use xlink:href=\"#glyph2-0\" x=\"267.546875\" y=\"183.216797\"/>\n",
       "  <use xlink:href=\"#glyph2-4\" x=\"267.546875\" y=\"180.160645\"/>\n",
       "</g>\n",
       "<path style=\" stroke:none;fill-rule:nonzero;fill:rgb(100%,100%,100%);fill-opacity:1;\" d=\"M 264.492188 490.015625 L 528.019531 490.015625 L 528.019531 464.230469 L 264.492188 464.230469 Z M 264.492188 490.015625 \"/>\n",
       "<g style=\"fill:rgb(0%,0%,0%);fill-opacity:1;\">\n",
       "  <use xlink:href=\"#glyph1-8\" x=\"268.742188\" y=\"481.0625\"/>\n",
       "  <use xlink:href=\"#glyph1-9\" x=\"274.242188\" y=\"481.0625\"/>\n",
       "  <use xlink:href=\"#glyph1-8\" x=\"280.359863\" y=\"481.0625\"/>\n",
       "  <use xlink:href=\"#glyph1-8\" x=\"285.859863\" y=\"481.0625\"/>\n",
       "  <use xlink:href=\"#glyph1-6\" x=\"291.359863\" y=\"481.0625\"/>\n",
       "  <use xlink:href=\"#glyph1-1\" x=\"293.803711\" y=\"481.0625\"/>\n",
       "  <use xlink:href=\"#glyph1-7\" x=\"299.921387\" y=\"481.0625\"/>\n",
       "  <use xlink:href=\"#glyph1-10\" x=\"306.039063\" y=\"481.0625\"/>\n",
       "  <use xlink:href=\"#glyph1-6\" x=\"312.156738\" y=\"481.0625\"/>\n",
       "  <use xlink:href=\"#glyph1-11\" x=\"314.600586\" y=\"481.0625\"/>\n",
       "</g>\n",
       "<path style=\"fill-rule:nonzero;fill:rgb(94.901961%,94.901961%,94.901961%);fill-opacity:1;stroke-width:1.066978;stroke-linecap:round;stroke-linejoin:round;stroke:rgb(100%,100%,100%);stroke-opacity:1;stroke-miterlimit:10;\" d=\"M 325.027344 485.765625 L 342.308594 485.765625 L 342.308594 468.484375 L 325.027344 468.484375 Z M 325.027344 485.765625 \"/>\n",
       "<path style=\"fill:none;stroke-width:1.066978;stroke-linecap:butt;stroke-linejoin:round;stroke:rgb(97.254902%,46.27451%,42.745098%);stroke-opacity:1;stroke-miterlimit:10;\" d=\"M 326.753906 477.125 L 340.578125 477.125 \"/>\n",
       "<g style=\"fill:rgb(0%,0%,0%);fill-opacity:1;\">\n",
       "  <use xlink:href=\"#glyph0-6\" x=\"344.46875\" y=\"480.273438\"/>\n",
       "  <use xlink:href=\"#glyph0-7\" x=\"348.86875\" y=\"480.273438\"/>\n",
       "  <use xlink:href=\"#glyph0-8\" x=\"353.762891\" y=\"480.273438\"/>\n",
       "  <use xlink:href=\"#glyph0-9\" x=\"358.162891\" y=\"480.273438\"/>\n",
       "  <use xlink:href=\"#glyph0-10\" x=\"363.057031\" y=\"480.273438\"/>\n",
       "  <use xlink:href=\"#glyph0-11\" x=\"365.501953\" y=\"480.273438\"/>\n",
       "  <use xlink:href=\"#glyph0-12\" x=\"370.396094\" y=\"480.273438\"/>\n",
       "  <use xlink:href=\"#glyph0-12\" x=\"375.290234\" y=\"480.273438\"/>\n",
       "  <use xlink:href=\"#glyph0-13\" x=\"380.184375\" y=\"480.273438\"/>\n",
       "  <use xlink:href=\"#glyph0-10\" x=\"385.078516\" y=\"480.273438\"/>\n",
       "  <use xlink:href=\"#glyph0-14\" x=\"387.523437\" y=\"480.273438\"/>\n",
       "  <use xlink:href=\"#glyph0-10\" x=\"389.478516\" y=\"480.273438\"/>\n",
       "  <use xlink:href=\"#glyph0-15\" x=\"391.923437\" y=\"480.273438\"/>\n",
       "  <use xlink:href=\"#glyph0-16\" x=\"396.817578\" y=\"480.273438\"/>\n",
       "  <use xlink:href=\"#glyph0-14\" x=\"401.711719\" y=\"480.273438\"/>\n",
       "  <use xlink:href=\"#glyph0-8\" x=\"403.666797\" y=\"480.273438\"/>\n",
       "  <use xlink:href=\"#glyph0-13\" x=\"408.066797\" y=\"480.273438\"/>\n",
       "  <use xlink:href=\"#glyph0-10\" x=\"412.960937\" y=\"480.273438\"/>\n",
       "  <use xlink:href=\"#glyph0-17\" x=\"415.405859\" y=\"480.273438\"/>\n",
       "  <use xlink:href=\"#glyph0-15\" x=\"418.336328\" y=\"480.273438\"/>\n",
       "  <use xlink:href=\"#glyph0-14\" x=\"423.230469\" y=\"480.273438\"/>\n",
       "  <use xlink:href=\"#glyph0-16\" x=\"425.185547\" y=\"480.273438\"/>\n",
       "  <use xlink:href=\"#glyph0-14\" x=\"430.079687\" y=\"480.273438\"/>\n",
       "  <use xlink:href=\"#glyph0-16\" x=\"432.034766\" y=\"480.273438\"/>\n",
       "  <use xlink:href=\"#glyph0-18\" x=\"436.928906\" y=\"480.273438\"/>\n",
       "  <use xlink:href=\"#glyph0-13\" x=\"441.823047\" y=\"480.273438\"/>\n",
       "  <use xlink:href=\"#glyph0-2\" x=\"446.717187\" y=\"480.273438\"/>\n",
       "  <use xlink:href=\"#glyph0-0\" x=\"451.611328\" y=\"480.273438\"/>\n",
       "  <use xlink:href=\"#glyph0-5\" x=\"456.505469\" y=\"480.273438\"/>\n",
       "  <use xlink:href=\"#glyph0-19\" x=\"461.399609\" y=\"480.273438\"/>\n",
       "  <use xlink:href=\"#glyph0-5\" x=\"466.29375\" y=\"480.273438\"/>\n",
       "  <use xlink:href=\"#glyph0-5\" x=\"471.187891\" y=\"480.273438\"/>\n",
       "  <use xlink:href=\"#glyph0-5\" x=\"476.082031\" y=\"480.273438\"/>\n",
       "  <use xlink:href=\"#glyph0-19\" x=\"480.976172\" y=\"480.273438\"/>\n",
       "  <use xlink:href=\"#glyph0-13\" x=\"485.870312\" y=\"480.273438\"/>\n",
       "  <use xlink:href=\"#glyph0-12\" x=\"490.764453\" y=\"480.273438\"/>\n",
       "  <use xlink:href=\"#glyph0-4\" x=\"495.658594\" y=\"480.273438\"/>\n",
       "  <use xlink:href=\"#glyph0-2\" x=\"500.552734\" y=\"480.273438\"/>\n",
       "  <use xlink:href=\"#glyph0-0\" x=\"505.446875\" y=\"480.273438\"/>\n",
       "  <use xlink:href=\"#glyph0-4\" x=\"510.341016\" y=\"480.273438\"/>\n",
       "  <use xlink:href=\"#glyph0-4\" x=\"515.235156\" y=\"480.273438\"/>\n",
       "</g>\n",
       "</g>\n",
       "</svg>\n"
      ],
      "text/plain": [
       "plot without title"
      ]
     },
     "metadata": {
      "image/svg+xml": {
       "isolated": true
      }
     },
     "output_type": "display_data"
    }
   ],
   "source": [
    "plot1 <- ggplot(liftchart) + geom_line(aes(x = population, y = target_population,group = session_id, color = session_id))\n",
    "plot2 <- ggplot(roc) + geom_line(aes(x = false_positive_rate, y = true_positive_rate, group = session_id, color = session_id))\n",
    "require(gridExtra)\n",
    "grid.arrange(plot1 + scale_fill_continuous(guide = guide_legend()) + theme(legend.position=\"bottom\"),\n",
    "             plot2 + scale_fill_continuous(guide = guide_legend()) + theme(legend.position=\"bottom\"), ncol=2)"
   ]
  },
  {
   "cell_type": "code",
   "execution_count": 38,
   "metadata": {
    "collapsed": false
   },
   "outputs": [
    {
     "data": {
      "text/html": [
       "0.717488789237668"
      ],
      "text/latex": [
       "0.717488789237668"
      ],
      "text/markdown": [
       "0.717488789237668"
      ],
      "text/plain": [
       "[1] 0.7174888"
      ]
     },
     "execution_count": 38,
     "metadata": {},
     "output_type": "execute_result"
    }
   ],
   "source": [
    "pullAccuracy(session_id, 0.5, 'population')"
   ]
  },
  {
   "cell_type": "code",
   "execution_count": 39,
   "metadata": {
    "collapsed": false
   },
   "outputs": [
    {
     "data": {
      "text/html": [
       "0.802690582959641"
      ],
      "text/latex": [
       "0.802690582959641"
      ],
      "text/markdown": [
       "0.802690582959641"
      ],
      "text/plain": [
       "[1] 0.8026906"
      ]
     },
     "execution_count": 39,
     "metadata": {},
     "output_type": "execute_result"
    }
   ],
   "source": [
    "pullAccuracy(session_id, 0.5, 'probability')"
   ]
  },
  {
   "cell_type": "code",
   "execution_count": 40,
   "metadata": {
    "collapsed": false
   },
   "outputs": [
    {
     "data": {
      "text/html": [
       "<table>\n",
       "<thead><tr><th></th><th scope=col>predicted_positives</th><th scope=col>predicted_negatives</th></tr></thead>\n",
       "<tbody>\n",
       "\t<tr><th scope=row>actual_positives</th><td>62</td><td>19</td></tr>\n",
       "\t<tr><th scope=row>actual_negatives</th><td> 25</td><td>117</td></tr>\n",
       "</tbody>\n",
       "</table>\n"
      ],
      "text/latex": [
       "\\begin{tabular}{r|ll}\n",
       "  & predicted_positives & predicted_negatives\\\\\n",
       "\\hline\n",
       "\tactual_positives & 62 & 19\\\\\n",
       "\tactual_negatives &  25 & 117\\\\\n",
       "\\end{tabular}\n"
      ],
      "text/markdown": [
       "1. 62\n",
       "2. 25\n",
       "3. 19\n",
       "4. 117\n",
       "\n",
       "\n"
      ],
      "text/plain": [
       "                 predicted_positives predicted_negatives\n",
       "actual_positives                  62                  19\n",
       "actual_negatives                  25                 117"
      ]
     },
     "execution_count": 40,
     "metadata": {},
     "output_type": "execute_result"
    }
   ],
   "source": [
    "pullConfMatrix(session_id, 0.5, 'probability')"
   ]
  },
  {
   "cell_type": "markdown",
   "metadata": {},
   "source": [
    "## 7. Store the scores"
   ]
  },
  {
   "cell_type": "code",
   "execution_count": 41,
   "metadata": {
    "collapsed": false
   },
   "outputs": [
    {
     "data": {
      "text/html": [
       "-2"
      ],
      "text/latex": [
       "-2"
      ],
      "text/markdown": [
       "-2"
      ],
      "text/plain": [
       "[1] -2"
      ]
     },
     "execution_count": 41,
     "metadata": {},
     "output_type": "execute_result"
    }
   ],
   "source": [
    "storeModelScores(test$passengerid, forest_prediction$Survived)"
   ]
  },
  {
   "cell_type": "code",
   "execution_count": 42,
   "metadata": {
    "collapsed": false
   },
   "outputs": [
    {
     "data": {
      "text/html": [
       "<table>\n",
       "<thead><tr><th></th><th scope=col>session_id</th><th scope=col>id</th><th scope=col>scores</th><th scope=col>scores_class</th></tr></thead>\n",
       "<tbody>\n",
       "\t<tr><th scope=row>1</th><td>vecht499_titanic_training_20161116_972077</td><td>689</td><td>0.11</td><td>NA</td></tr>\n",
       "\t<tr><th scope=row>2</th><td>vecht499_titanic_training_20161116_972077</td><td>466</td><td>0.06</td><td>NA</td></tr>\n",
       "\t<tr><th scope=row>3</th><td>vecht499_titanic_training_20161116_972077</td><td>19</td><td>0.96</td><td>NA</td></tr>\n",
       "\t<tr><th scope=row>4</th><td>vecht499_titanic_training_20161116_972077</td><td>163</td><td>0.16</td><td>NA</td></tr>\n",
       "\t<tr><th scope=row>5</th><td>vecht499_titanic_training_20161116_972077</td><td>314</td><td>0.01</td><td>NA</td></tr>\n",
       "\t<tr><th scope=row>6</th><td>vecht499_titanic_training_20161116_972077</td><td>3</td><td>0.59</td><td>NA</td></tr>\n",
       "</tbody>\n",
       "</table>\n"
      ],
      "text/latex": [
       "\\begin{tabular}{r|llll}\n",
       "  & session_id & id & scores & scores_class\\\\\n",
       "\\hline\n",
       "\t1 & vecht499_titanic_training_20161116_972077 & 689 & 0.11 & NA\\\\\n",
       "\t2 & vecht499_titanic_training_20161116_972077 & 466 & 0.06 & NA\\\\\n",
       "\t3 & vecht499_titanic_training_20161116_972077 & 19 & 0.96 & NA\\\\\n",
       "\t4 & vecht499_titanic_training_20161116_972077 & 163 & 0.16 & NA\\\\\n",
       "\t5 & vecht499_titanic_training_20161116_972077 & 314 & 0.01 & NA\\\\\n",
       "\t6 & vecht499_titanic_training_20161116_972077 & 3 & 0.59 & NA\\\\\n",
       "\\end{tabular}\n"
      ],
      "text/plain": [
       "                                 session_id  id scores scores_class\n",
       "1 vecht499_titanic_training_20161116_972077 689   0.11           NA\n",
       "2 vecht499_titanic_training_20161116_972077 466   0.06           NA\n",
       "3 vecht499_titanic_training_20161116_972077  19   0.96           NA\n",
       "4 vecht499_titanic_training_20161116_972077 163   0.16           NA\n",
       "5 vecht499_titanic_training_20161116_972077 314   0.01           NA\n",
       "6 vecht499_titanic_training_20161116_972077   3   0.59           NA"
      ]
     },
     "execution_count": 42,
     "metadata": {},
     "output_type": "execute_result"
    }
   ],
   "source": [
    "## as we can see, the data is actually stored\n",
    "head(pullModelScores(session_id))"
   ]
  },
  {
   "cell_type": "markdown",
   "metadata": {},
   "source": [
    "## 7. Close the session"
   ]
  },
  {
   "cell_type": "code",
   "execution_count": 43,
   "metadata": {
    "collapsed": false
   },
   "outputs": [
    {
     "name": "stdout",
     "output_type": "stream",
     "text": [
      "1\tvecht499_titanic_training_20161116_972077\n"
     ]
    }
   ],
   "source": [
    "closeSession()"
   ]
  },
  {
   "cell_type": "code",
   "execution_count": 44,
   "metadata": {
    "collapsed": false
   },
   "outputs": [
    {
     "data": {
      "text/html": [
       "<table>\n",
       "<thead><tr><th></th><th scope=col>session_id</th><th scope=col>user_id</th><th scope=col>model_id</th><th scope=col>start_time</th><th scope=col>end_time</th><th scope=col>last_exported</th></tr></thead>\n",
       "<tbody>\n",
       "\t<tr><th scope=row>1</th><td>vecht499_titanic_training_20161116_972077</td><td>vecht499</td><td>titanic_training</td><td>2016-11-16 17:34:59</td><td>2016-11-16 17:52:28</td><td>NA</td></tr>\n",
       "</tbody>\n",
       "</table>\n"
      ],
      "text/latex": [
       "\\begin{tabular}{r|llllll}\n",
       "  & session_id & user_id & model_id & start_time & end_time & last_exported\\\\\n",
       "\\hline\n",
       "\t1 & vecht499_titanic_training_20161116_972077 & vecht499 & titanic_training & 2016-11-16 17:34:59 & 2016-11-16 17:52:28 & NA\\\\\n",
       "\\end{tabular}\n"
      ],
      "text/plain": [
       "                                 session_id  user_id         model_id\n",
       "1 vecht499_titanic_training_20161116_972077 vecht499 titanic_training\n",
       "           start_time            end_time last_exported\n",
       "1 2016-11-16 17:34:59 2016-11-16 17:52:28          <NA>"
      ]
     },
     "execution_count": 44,
     "metadata": {},
     "output_type": "execute_result"
    }
   ],
   "source": [
    "## as we can see, the end time is filled in\n",
    "taQuery(sprintf(\"select * from model_factory.run_history where session_id='%s'\",session_id))"
   ]
  }
 ],
 "metadata": {
  "kernelspec": {
   "display_name": "R",
   "language": "R",
   "name": "ir"
  },
  "language_info": {
   "codemirror_mode": "r",
   "file_extension": ".r",
   "mimetype": "text/x-r-source",
   "name": "R",
   "pygments_lexer": "r",
   "version": "3.2.5"
  }
 },
 "nbformat": 4,
 "nbformat_minor": 0
}
